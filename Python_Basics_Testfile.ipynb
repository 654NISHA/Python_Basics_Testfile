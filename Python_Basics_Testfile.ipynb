{
 "cells": [
  {
   "cell_type": "markdown",
   "id": "ac899d02-206c-4d42-832f-2f2ec88fdaf1",
   "metadata": {},
   "source": [
    "### String Based Assignment Problem\n",
    "\n",
    "---"
   ]
  },
  {
   "cell_type": "markdown",
   "id": "af046b6b-d21f-4ef0-b4ed-641511a4979c",
   "metadata": {},
   "source": [
    "### 1.Write a program to reverse a string."
   ]
  },
  {
   "cell_type": "code",
   "execution_count": 1,
   "id": "38e4f512-05c8-4d10-aa37-903af511e430",
   "metadata": {},
   "outputs": [
    {
     "name": "stdin",
     "output_type": "stream",
     "text": [
      "Enter any string Hello, World!\n"
     ]
    },
    {
     "name": "stdout",
     "output_type": "stream",
     "text": [
      "!dlroW ,olleH\n"
     ]
    }
   ],
   "source": [
    "s=str(input(\"Enter any string\"))\n",
    "print(s[::-1])"
   ]
  },
  {
   "cell_type": "markdown",
   "id": "9441d1a4-571d-416f-aab9-7517ecdfbc2e",
   "metadata": {},
   "source": [
    "#### 2.Check if a string is a palindrome."
   ]
  },
  {
   "cell_type": "code",
   "execution_count": 2,
   "id": "a8ae410a-d8ef-4bbd-9958-bd075e677825",
   "metadata": {},
   "outputs": [
    {
     "name": "stdin",
     "output_type": "stream",
     "text": [
      "Enter any string abccba\n"
     ]
    },
    {
     "name": "stdout",
     "output_type": "stream",
     "text": [
      "Given string is palindrome\n"
     ]
    }
   ],
   "source": [
    "s=str(input(\"Enter any string\"))\n",
    "if (s==s[::-1]):\n",
    "    print(\"Given string is palindrome\")\n",
    "else:\n",
    "    print(\"Given string is not palindrome\")"
   ]
  },
  {
   "cell_type": "markdown",
   "id": "ba2afa76-4762-493e-b6df-fb100d31ed3b",
   "metadata": {},
   "source": [
    "### 3.Convert a string to uppercase."
   ]
  },
  {
   "cell_type": "code",
   "execution_count": 3,
   "id": "5437507d-2a5f-49e6-a54a-0e1a07594e1a",
   "metadata": {},
   "outputs": [
    {
     "name": "stdin",
     "output_type": "stream",
     "text": [
      "Enter any string hello\n"
     ]
    },
    {
     "data": {
      "text/plain": [
       "'HELLO'"
      ]
     },
     "execution_count": 3,
     "metadata": {},
     "output_type": "execute_result"
    }
   ],
   "source": [
    "s=str(input(\"Enter any string\"))\n",
    "s.upper()"
   ]
  },
  {
   "cell_type": "markdown",
   "id": "cb36adbd-582a-4644-8f88-b28cbfbde24b",
   "metadata": {},
   "source": [
    "### 4.Convert a string to lowercase."
   ]
  },
  {
   "cell_type": "code",
   "execution_count": 4,
   "id": "909cf2c9-1739-45be-85fd-db75360b7cb5",
   "metadata": {},
   "outputs": [
    {
     "name": "stdin",
     "output_type": "stream",
     "text": [
      "Enter any string Hello\n"
     ]
    },
    {
     "data": {
      "text/plain": [
       "'hello'"
      ]
     },
     "execution_count": 4,
     "metadata": {},
     "output_type": "execute_result"
    }
   ],
   "source": [
    "s=str(input(\"Enter any string\"))\n",
    "s.lower()"
   ]
  },
  {
   "cell_type": "markdown",
   "id": "5a3ced13-53c2-4a53-89d5-ec208a8c0649",
   "metadata": {},
   "source": [
    "### 5.Count the number of vowels in a string."
   ]
  },
  {
   "cell_type": "code",
   "execution_count": 1,
   "id": "5cf55d54-7b30-42f4-ae15-cdf70c8ed7d4",
   "metadata": {},
   "outputs": [
    {
     "name": "stdin",
     "output_type": "stream",
     "text": [
      "Enter any string Welcome to the world\n"
     ]
    },
    {
     "name": "stdout",
     "output_type": "stream",
     "text": [
      "Number of vowels: 6\n"
     ]
    }
   ],
   "source": [
    "s=str(input(\"Enter any string\"))\n",
    "print(\"Number of vowels:\",s.count('a')+s.count('e')+s.count('i')+s.count('o')+s.count('u'))"
   ]
  },
  {
   "cell_type": "markdown",
   "id": "d9990717-263c-4f5f-a16d-e69484a515c9",
   "metadata": {},
   "source": [
    "### 6.Count the number of consonants in a string."
   ]
  },
  {
   "cell_type": "code",
   "execution_count": 2,
   "id": "a87f30f2-e45e-47cd-baa0-b1a7cc4a8bd5",
   "metadata": {},
   "outputs": [
    {
     "name": "stdin",
     "output_type": "stream",
     "text": [
      "Enter any string Welcome to the world\n"
     ]
    },
    {
     "name": "stdout",
     "output_type": "stream",
     "text": [
      "Number of consonants: 14\n"
     ]
    }
   ],
   "source": [
    "s=str(input(\"Enter any string\"))\n",
    "x=s.count('a')+s.count('e')+s.count('i')+s.count('o')+s.count('u')\n",
    "print(\"Number of consonants:\",len(s)-x)"
   ]
  },
  {
   "cell_type": "markdown",
   "id": "5d6e8039-2333-4745-8231-dc26dc15cb62",
   "metadata": {},
   "source": [
    "### 7.Remove all whitespaces from a string."
   ]
  },
  {
   "cell_type": "code",
   "execution_count": 10,
   "id": "5ecaf29a-55ec-48ce-b304-46b589ab82b3",
   "metadata": {},
   "outputs": [
    {
     "name": "stdin",
     "output_type": "stream",
     "text": [
      "Enter any string Welcome to the world\n"
     ]
    },
    {
     "data": {
      "text/plain": [
       "'Welcometotheworld'"
      ]
     },
     "execution_count": 10,
     "metadata": {},
     "output_type": "execute_result"
    }
   ],
   "source": [
    "s=str(input(\"Enter any string\"))\n",
    "s.replace(\" \",\"\")"
   ]
  },
  {
   "cell_type": "markdown",
   "id": "0effb86c-7649-42e2-bd20-544903bb2294",
   "metadata": {},
   "source": [
    "### 8.Find the length of a string without using the `len()` function."
   ]
  },
  {
   "cell_type": "code",
   "execution_count": 3,
   "id": "ea84edcb-a9c9-4fdc-b9a6-89177e2d7e47",
   "metadata": {},
   "outputs": [
    {
     "name": "stdin",
     "output_type": "stream",
     "text": [
      "Enter any string hello\n"
     ]
    },
    {
     "name": "stdout",
     "output_type": "stream",
     "text": [
      "Lenght of a given string: 5\n"
     ]
    }
   ],
   "source": [
    "s=str(input(\"Enter any string\"))\n",
    "count=0\n",
    "for i in s:\n",
    "    count+=1\n",
    "print(\"Lenght of a given string:\",count)"
   ]
  },
  {
   "cell_type": "markdown",
   "id": "9f98991a-03fa-4ed2-9085-922e018eba6a",
   "metadata": {},
   "source": [
    "### 9.Check if a string contains a specific word."
   ]
  },
  {
   "cell_type": "code",
   "execution_count": 2,
   "id": "86ca167d-7a57-47c4-874c-39d56af39702",
   "metadata": {},
   "outputs": [
    {
     "name": "stdin",
     "output_type": "stream",
     "text": [
      "Enter any string I have been looking for jammu.\n",
      "Enter any substring look\n"
     ]
    },
    {
     "name": "stdout",
     "output_type": "stream",
     "text": [
      "FOUND!\n"
     ]
    }
   ],
   "source": [
    "string=str(input(\"Enter any string\"))\n",
    "substring=str(input(\"Enter any substring\"))\n",
    "if substring in string:\n",
    "    print(\"FOUND!\")\n",
    "else:\n",
    "    print(\"NOT FOUND!\")"
   ]
  },
  {
   "cell_type": "markdown",
   "id": "31aeb388-f89a-4746-9bfc-bfa4ffbe7d8f",
   "metadata": {},
   "source": [
    "### 10.Replace a word in a string with another word."
   ]
  },
  {
   "cell_type": "code",
   "execution_count": 5,
   "id": "5530c780-5b94-4d53-b98c-47fac8fb45fa",
   "metadata": {},
   "outputs": [
    {
     "name": "stdin",
     "output_type": "stream",
     "text": [
      "Enter any string I have been looking for jammu\n",
      "Enter any substring jammu\n",
      "Enter any substring sam\n"
     ]
    },
    {
     "name": "stdout",
     "output_type": "stream",
     "text": [
      "I have been looking for sam\n"
     ]
    }
   ],
   "source": [
    "string=str(input(\"Enter any string\"))\n",
    "substring=str(input(\"Enter any substring\"))\n",
    "another_word=str(input(\"Enter any word which you want to change.\"))\n",
    "if substring in string:\n",
    "    print(string.replace(substring,another_word))\n",
    "else:\n",
    "    print(\"NOT FOUND!\")"
   ]
  },
  {
   "cell_type": "markdown",
   "id": "ed2ff863-7480-48f6-867e-620133794656",
   "metadata": {},
   "source": [
    "### 11.Count the occurrences of a word in a string."
   ]
  },
  {
   "cell_type": "code",
   "execution_count": 4,
   "id": "c1fa23f2-8f1f-49d8-8408-954df038d4f2",
   "metadata": {},
   "outputs": [
    {
     "name": "stdin",
     "output_type": "stream",
     "text": [
      "Enter any string I have been looking for jammu\n",
      "Enter any substring have\n"
     ]
    },
    {
     "name": "stdout",
     "output_type": "stream",
     "text": [
      "The word 'have' appears 1 times\n"
     ]
    }
   ],
   "source": [
    "string=str(input(\"Enter any string\"))\n",
    "substring=str(input(\"Enter any substring\"))\n",
    "print(f\"The word '{substring}' appears {string.count(substring)} times\")"
   ]
  },
  {
   "cell_type": "markdown",
   "id": "ffc7d677-233e-4696-b25b-390af44f799e",
   "metadata": {},
   "source": [
    "### 12.Find the first occurrence of a word in a string."
   ]
  },
  {
   "cell_type": "code",
   "execution_count": 6,
   "id": "dbfb41c5-7b47-4efe-ab48-99158f6eb13c",
   "metadata": {},
   "outputs": [
    {
     "name": "stdin",
     "output_type": "stream",
     "text": [
      "Enter any string I have been looking for jammu.\n",
      "Enter any string which you want to check been\n"
     ]
    },
    {
     "name": "stdout",
     "output_type": "stream",
     "text": [
      "Index of the first occurrence: 7\n"
     ]
    }
   ],
   "source": [
    "string=str(input(\"Enter any string\"))\n",
    "l=str(input(\"Enter any string which you want to check\"))\n",
    "print(\"Index of the first occurrence:\",string.index(l))"
   ]
  },
  {
   "cell_type": "markdown",
   "id": "b11587a6-cc59-46a2-8ad5-be0f26054275",
   "metadata": {},
   "source": [
    "### 13.Find the last occurrence of a word in a string."
   ]
  },
  {
   "cell_type": "code",
   "execution_count": 9,
   "id": "db606c9c-224e-4199-a6d6-9c2a3e191765",
   "metadata": {},
   "outputs": [
    {
     "name": "stdin",
     "output_type": "stream",
     "text": [
      "Enter any string I have been looking for jammu.\n",
      "Enter any string which you want to check for\n"
     ]
    },
    {
     "name": "stdout",
     "output_type": "stream",
     "text": [
      "Index of the last occurrence: 20\n"
     ]
    }
   ],
   "source": [
    "string=str(input(\"Enter any string\"))\n",
    "l=str(input(\"Enter any string which you want to check\"))\n",
    "print(\"Index of the last occurrence:\",string.rindex(l))"
   ]
  },
  {
   "cell_type": "markdown",
   "id": "2ff80604-0c0f-4c01-a3ca-41e8621956cc",
   "metadata": {},
   "source": [
    "### 14.Split a string into a list of words."
   ]
  },
  {
   "cell_type": "code",
   "execution_count": 10,
   "id": "45713ef1-8f3c-4084-b152-ff612643abe7",
   "metadata": {},
   "outputs": [
    {
     "name": "stdin",
     "output_type": "stream",
     "text": [
      "Enter any string I have been looking for jammu.\n"
     ]
    },
    {
     "data": {
      "text/plain": [
       "['I', 'have', 'been', 'looking', 'for', 'jammu.']"
      ]
     },
     "execution_count": 10,
     "metadata": {},
     "output_type": "execute_result"
    }
   ],
   "source": [
    "string=str(input(\"Enter any string\"))\n",
    "string.split(\",\")"
   ]
  },
  {
   "cell_type": "markdown",
   "id": "c084d9a2-7530-4e98-bf0b-2e4ef059a374",
   "metadata": {},
   "source": [
    "### 15. Join a list of words into a string."
   ]
  },
  {
   "cell_type": "code",
   "execution_count": 14,
   "id": "04f33f8c-7cac-45e9-8eb5-c67494250ee2",
   "metadata": {},
   "outputs": [
    {
     "data": {
      "text/plain": [
       "'I have been looking for jammu'"
      ]
     },
     "execution_count": 14,
     "metadata": {},
     "output_type": "execute_result"
    }
   ],
   "source": [
    "s=['I','have', 'been', 'looking', 'for', 'jammu']\n",
    "\" \".join(s)"
   ]
  },
  {
   "cell_type": "markdown",
   "id": "c1053f75-d778-43d4-9020-c4d506f4686b",
   "metadata": {},
   "source": [
    "### 16. Convert a string where words are separated by spaces to one where words are separated by underscores."
   ]
  },
  {
   "cell_type": "code",
   "execution_count": 1,
   "id": "ffcda1fe-c32b-4516-b694-033a5b65d89c",
   "metadata": {},
   "outputs": [
    {
     "name": "stdin",
     "output_type": "stream",
     "text": [
      "Enter any string I have been looking for jammu\n"
     ]
    },
    {
     "data": {
      "text/plain": [
       "'I_have_been_looking_for_jammu'"
      ]
     },
     "execution_count": 1,
     "metadata": {},
     "output_type": "execute_result"
    }
   ],
   "source": [
    "string=str(input(\"Enter any string\"))\n",
    "string.replace(\" \",\"_\")"
   ]
  },
  {
   "cell_type": "markdown",
   "id": "eaa76172-b7b4-4ef0-a592-534c229a4063",
   "metadata": {},
   "source": [
    "### 17. Check if a string starts with a specific word or phrase."
   ]
  },
  {
   "cell_type": "code",
   "execution_count": 14,
   "id": "190af8e4-61d3-4ce0-9af4-4b2122b59087",
   "metadata": {},
   "outputs": [
    {
     "name": "stdin",
     "output_type": "stream",
     "text": [
      "Enter any string: Do not go that way.\n",
      "Enter any string which you want to check: Do\n"
     ]
    },
    {
     "name": "stdout",
     "output_type": "stream",
     "text": [
      "The text starts with the prefix.\n"
     ]
    }
   ],
   "source": [
    "string=str(input(\"Enter any string:\"))\n",
    "word=str(input(\"Enter any string which you want to check:\"))\n",
    "l=string.split(\" \")\n",
    "if (word==l[0]):\n",
    "    print(\"The text starts with the prefix.\")\n",
    "else:\n",
    "    print(\"The text does not start with the prefix.\")"
   ]
  },
  {
   "cell_type": "markdown",
   "id": "b3ea1221-41b2-465d-ba62-fcd488eafc1b",
   "metadata": {},
   "source": [
    "### 18. Check if a string ends with a specific word or phrase."
   ]
  },
  {
   "cell_type": "code",
   "execution_count": 13,
   "id": "59fa889d-ca41-4330-ab98-1d6e9f1434f8",
   "metadata": {},
   "outputs": [
    {
     "name": "stdin",
     "output_type": "stream",
     "text": [
      "Enter any string: Do not go that way.\n",
      "Enter any string which you want to check: go\n"
     ]
    },
    {
     "name": "stdout",
     "output_type": "stream",
     "text": [
      "The text does not end with the suffix.\n"
     ]
    }
   ],
   "source": [
    "string=str(input(\"Enter any string:\"))\n",
    "word=str(input(\"Enter any string which you want to check:\"))\n",
    "l=string.split(\" \")\n",
    "if (word==l[-1]):\n",
    "    print(\"The text ends with the suffix.\")\n",
    "else:\n",
    "    print(\"The text does not end with the suffix.\")"
   ]
  },
  {
   "cell_type": "markdown",
   "id": "940c72aa-1708-455b-838d-75c09b48c3d9",
   "metadata": {},
   "source": [
    "### 19. Convert a string to title case"
   ]
  },
  {
   "cell_type": "code",
   "execution_count": 15,
   "id": "070de1a0-2383-4fa6-a025-320b88ea9cf1",
   "metadata": {},
   "outputs": [
    {
     "name": "stdin",
     "output_type": "stream",
     "text": [
      "Enter any string hello, world\n"
     ]
    },
    {
     "name": "stdout",
     "output_type": "stream",
     "text": [
      "Title case: Hello, World\n"
     ]
    }
   ],
   "source": [
    "s=str(input(\"Enter any string\"))\n",
    "print(\"Title case:\",s.title())"
   ]
  },
  {
   "cell_type": "markdown",
   "id": "9acdb783-f3b0-4a21-a6ac-fc2e46b157f4",
   "metadata": {},
   "source": [
    "### 20. Find the longest word in a string."
   ]
  },
  {
   "cell_type": "code",
   "execution_count": 16,
   "id": "d4b79b19-a5b4-4187-8222-5142e979b49f",
   "metadata": {},
   "outputs": [
    {
     "name": "stdin",
     "output_type": "stream",
     "text": [
      "Enter any string Do not go that way.\n"
     ]
    },
    {
     "name": "stdout",
     "output_type": "stream",
     "text": [
      "Longest word: that\n"
     ]
    }
   ],
   "source": [
    "s=str(input(\"Enter any string\"))\n",
    "l=s.split(\" \")\n",
    "print(\"Longest word:\",max(l,key=len))"
   ]
  },
  {
   "cell_type": "markdown",
   "id": "6fa7022a-b156-49ee-9142-f15b6464a480",
   "metadata": {},
   "source": [
    "### 21. Find the shortest word in a string."
   ]
  },
  {
   "cell_type": "code",
   "execution_count": 1,
   "id": "89c358d5-204e-47e0-8bda-d16e47961554",
   "metadata": {},
   "outputs": [
    {
     "name": "stdin",
     "output_type": "stream",
     "text": [
      "Enter any string Do not go that way.\n"
     ]
    },
    {
     "name": "stdout",
     "output_type": "stream",
     "text": [
      "Shortest word: Do\n"
     ]
    }
   ],
   "source": [
    "s=str(input(\"Enter any string\"))\n",
    "l=s.split(\" \")\n",
    "print(\"Shortest word:\",min(l,key=len))"
   ]
  },
  {
   "cell_type": "markdown",
   "id": "d4575278-3c25-4b90-af31-e5d0d9fcfeb5",
   "metadata": {},
   "source": [
    "### 22. Reverse the order of words in a string."
   ]
  },
  {
   "cell_type": "code",
   "execution_count": 13,
   "id": "061e4dab-a34c-4c8e-b26c-35314e8764b6",
   "metadata": {},
   "outputs": [
    {
     "name": "stdin",
     "output_type": "stream",
     "text": [
      "Enter any string Do not go that way\n"
     ]
    },
    {
     "data": {
      "text/plain": [
       "'way that go not Do'"
      ]
     },
     "execution_count": 13,
     "metadata": {},
     "output_type": "execute_result"
    }
   ],
   "source": [
    "s=str(input(\"Enter any string\"))\n",
    "l=s.split(\" \")\n",
    "l.reverse()\n",
    "\" \".join(l)"
   ]
  },
  {
   "cell_type": "markdown",
   "id": "8db444ba-68d5-4298-9bde-7a70c4b7b2b8",
   "metadata": {},
   "source": [
    "### 23. Check if a string is alphanumeric."
   ]
  },
  {
   "cell_type": "code",
   "execution_count": 2,
   "id": "8e783941-3002-4429-ab90-f84d46b452b4",
   "metadata": {},
   "outputs": [
    {
     "name": "stdin",
     "output_type": "stream",
     "text": [
      "Enter any string hello123\n"
     ]
    },
    {
     "name": "stdout",
     "output_type": "stream",
     "text": [
      "The string is alphanumeric.\n"
     ]
    }
   ],
   "source": [
    "s=str(input(\"Enter any string\"))\n",
    "if (s.isalnum()):\n",
    "    print(\"The string is alphanumeric.\")\n",
    "else:\n",
    "    print(\"The string is not alphanumeric.\")"
   ]
  },
  {
   "cell_type": "markdown",
   "id": "d8816633-e158-45b2-8396-04f80f7e7775",
   "metadata": {},
   "source": [
    "### 24.Extract all digits from a string."
   ]
  },
  {
   "cell_type": "code",
   "execution_count": 3,
   "id": "51141c96-7d27-4415-a0de-1e7c8ff8e42f",
   "metadata": {},
   "outputs": [
    {
     "name": "stdin",
     "output_type": "stream",
     "text": [
      "Enter any string hello123\n"
     ]
    },
    {
     "name": "stdout",
     "output_type": "stream",
     "text": [
      "Extracted digits: 1 2 3 "
     ]
    }
   ],
   "source": [
    "s=str(input(\"Enter any string\"))\n",
    "print(\"Extracted digits:\", end=\" \")\n",
    "for i in s:\n",
    "    if (i.isdigit()):\n",
    "        print(i,end=\" \")"
   ]
  },
  {
   "cell_type": "markdown",
   "id": "b8a40224-f79e-4fa2-b6d7-f431c1138b59",
   "metadata": {},
   "source": [
    "###  25. Extract all alphabets from a string."
   ]
  },
  {
   "cell_type": "code",
   "execution_count": 4,
   "id": "d2c33df9-3c77-4cae-9f4d-0b5495b41925",
   "metadata": {},
   "outputs": [
    {
     "name": "stdin",
     "output_type": "stream",
     "text": [
      "Enter any string hello123\n"
     ]
    },
    {
     "name": "stdout",
     "output_type": "stream",
     "text": [
      "Extracted alphabets: h e l l o "
     ]
    }
   ],
   "source": [
    "s=str(input(\"Enter any string\"))\n",
    "print(\"Extracted alphabets:\",end=\" \")\n",
    "for i in s:\n",
    "    if (i.isalpha()):\n",
    "        print(i,end=\" \")"
   ]
  },
  {
   "cell_type": "markdown",
   "id": "d4f40f35-0c85-490e-95e7-c5ac4ded47d3",
   "metadata": {},
   "source": [
    "### 26.Count the number of uppercase letters in a string."
   ]
  },
  {
   "cell_type": "code",
   "execution_count": 5,
   "id": "39c8b479-094c-4505-beed-d6a1e5d115fa",
   "metadata": {},
   "outputs": [
    {
     "name": "stdin",
     "output_type": "stream",
     "text": [
      "Enter any string Hello, World!\n"
     ]
    },
    {
     "name": "stdout",
     "output_type": "stream",
     "text": [
      "Count of a uppercase letters: 2\n"
     ]
    }
   ],
   "source": [
    "count=0\n",
    "s=str(input(\"Enter any string\"))\n",
    "for i in s:\n",
    "    if (i.isupper()):\n",
    "        count+=1\n",
    "print(\"Count of a uppercase letters:\",count)"
   ]
  },
  {
   "cell_type": "markdown",
   "id": "b27a056c-e979-4154-ab69-894c638bb7a2",
   "metadata": {},
   "source": [
    "### 27. Count the number of lowercase letters in a string."
   ]
  },
  {
   "cell_type": "code",
   "execution_count": 6,
   "id": "c43f8f90-0191-4bfa-bc64-a37cc4163f75",
   "metadata": {},
   "outputs": [
    {
     "name": "stdin",
     "output_type": "stream",
     "text": [
      "Enter any string Hello, World!\n"
     ]
    },
    {
     "name": "stdout",
     "output_type": "stream",
     "text": [
      "Count of lowercase letters: 8\n"
     ]
    }
   ],
   "source": [
    "count=0\n",
    "s=str(input(\"Enter any string\"))\n",
    "for i in s:\n",
    "    if (i.islower()):\n",
    "        count+=1\n",
    "print(\"Count of lowercase letters:\",count)"
   ]
  },
  {
   "cell_type": "markdown",
   "id": "d35d0100-2709-4cfc-b076-272fe2b35e96",
   "metadata": {},
   "source": [
    "### 28. Swap the case of each character in a string."
   ]
  },
  {
   "cell_type": "code",
   "execution_count": 8,
   "id": "e9302682-4ce6-4bda-9b8f-ceb5365f53f5",
   "metadata": {},
   "outputs": [
    {
     "name": "stdin",
     "output_type": "stream",
     "text": [
      "Enter any string Hello, World!\n"
     ]
    },
    {
     "data": {
      "text/plain": [
       "'hELLO, wORLD!'"
      ]
     },
     "execution_count": 8,
     "metadata": {},
     "output_type": "execute_result"
    }
   ],
   "source": [
    "s=str(input(\"Enter any string\"))\n",
    "s.swapcase()"
   ]
  },
  {
   "cell_type": "markdown",
   "id": "8de800cb-8fd6-47b4-85ff-3792c71877a3",
   "metadata": {},
   "source": [
    "### 29. Remove a specific word from a string."
   ]
  },
  {
   "cell_type": "code",
   "execution_count": 25,
   "id": "223566b5-053d-49d3-baf7-032c58315e48",
   "metadata": {},
   "outputs": [
    {
     "name": "stdin",
     "output_type": "stream",
     "text": [
      "Enter any string I love chocolates\n",
      "Enter any word which you want to remove I\n"
     ]
    },
    {
     "name": "stdout",
     "output_type": "stream",
     "text": [
      " love chocolates\n"
     ]
    }
   ],
   "source": [
    "s=str(input(\"Enter any string\"))\n",
    "w=str(input(\"Enter any word which you want to remove\"))\n",
    "if w in s:\n",
    "    print(s.replace(w,\"\"))\n",
    "else:\n",
    "    print(s)"
   ]
  },
  {
   "cell_type": "markdown",
   "id": "adf516cb-3383-458f-b4fb-d9195fd62a84",
   "metadata": {},
   "source": [
    "### 30. Check if a string is a valid email address."
   ]
  },
  {
   "cell_type": "code",
   "execution_count": 9,
   "id": "fe24b015-e45c-44cf-bf1f-36ef44368194",
   "metadata": {},
   "outputs": [
    {
     "name": "stdout",
     "output_type": "stream",
     "text": [
      "True\n",
      "False\n"
     ]
    }
   ],
   "source": [
    "import re  # Import the regular expression module\n",
    "\n",
    "def is_valid_email(email):\n",
    "    pattern = r'^[\\w\\.-]+@[\\w\\.-]+\\.\\w+$'  \n",
    "    if re.match(pattern, email):\n",
    "        return True\n",
    "    else:\n",
    "        return False\n",
    "\n",
    "# Example email addresses\n",
    "email1 = \"example@email.com\"\n",
    "email2 = \"invalid-email\"\n",
    "result1 = is_valid_email(email1)\n",
    "result2 = is_valid_email(email2)\n",
    "print(result1)\n",
    "print(result2)"
   ]
  },
  {
   "cell_type": "markdown",
   "id": "7db6ad33-5553-48f6-9601-145c62460a7f",
   "metadata": {},
   "source": [
    "### 31. Extract the username from an email address string."
   ]
  },
  {
   "cell_type": "code",
   "execution_count": 3,
   "id": "e7324b66-f652-460b-b4b5-bea6b945415c",
   "metadata": {},
   "outputs": [
    {
     "name": "stdin",
     "output_type": "stream",
     "text": [
      "Enter email id priy_654@gmail.com\n"
     ]
    },
    {
     "name": "stdout",
     "output_type": "stream",
     "text": [
      "priy_654\n"
     ]
    }
   ],
   "source": [
    "s=str(input(\"Enter email id\"))\n",
    "l=s.split(\"@\")\n",
    "print(l[0])"
   ]
  },
  {
   "cell_type": "markdown",
   "id": "9cd90d19-14ba-4aeb-898b-308c8984dd0a",
   "metadata": {},
   "source": [
    "### 32. Extract the domain name from an email address string."
   ]
  },
  {
   "cell_type": "code",
   "execution_count": 4,
   "id": "5fa407ed-b272-409a-ba5b-53b1e5881dfa",
   "metadata": {},
   "outputs": [
    {
     "name": "stdin",
     "output_type": "stream",
     "text": [
      "Enter email id priy_654@gmail.com\n"
     ]
    },
    {
     "name": "stdout",
     "output_type": "stream",
     "text": [
      "gmail.com\n"
     ]
    }
   ],
   "source": [
    "s=str(input(\"Enter email id\"))\n",
    "l=s.split(\"@\")\n",
    "print(l[1])"
   ]
  },
  {
   "cell_type": "markdown",
   "id": "6ba0f9fe-ffa7-494b-a915-76aec085548d",
   "metadata": {},
   "source": [
    "### 33. Replace multiple spaces in a string with a single space.\n"
   ]
  },
  {
   "cell_type": "code",
   "execution_count": 2,
   "id": "0a39d27b-7988-46fa-8a1b-7cac06c5109e",
   "metadata": {},
   "outputs": [
    {
     "data": {
      "text/plain": [
       "'Hello world! How are you?'"
      ]
     },
     "execution_count": 2,
     "metadata": {},
     "output_type": "execute_result"
    }
   ],
   "source": [
    "input_string = \"Hello     world!   How   are   you?\"\n",
    "' '.join(input_string.split())"
   ]
  },
  {
   "cell_type": "markdown",
   "id": "bffb55ae-5f41-4697-9da6-03482c0b650d",
   "metadata": {},
   "source": [
    "### 34. Check if a string is a valid URL."
   ]
  },
  {
   "cell_type": "code",
   "execution_count": 4,
   "id": "9a1b181f-40dd-4847-a0ed-15c58ea4f38d",
   "metadata": {},
   "outputs": [
    {
     "name": "stdout",
     "output_type": "stream",
     "text": [
      "True\n",
      "False\n"
     ]
    }
   ],
   "source": [
    "from urllib.parse import urlparse\n",
    "\n",
    "def is_valid_url(url):\n",
    "    try:\n",
    "        result = urlparse(url)\n",
    "        return all([result.scheme, result.netloc])  # Check if both scheme and netloc are present\n",
    "    except ValueError:\n",
    "        return False\n",
    "\n",
    "# Example URLs\n",
    "url1 = \"https://www.example.com\"\n",
    "url2 = \"invalid-url\"\n",
    "result1 = is_valid_url(url1)\n",
    "result2 = is_valid_url(url2)\n",
    "print(result1)  # Should print True\n",
    "print(result2)  # Should print False"
   ]
  },
  {
   "cell_type": "markdown",
   "id": "59ee9eb8-217c-467b-a370-4a9358d1097a",
   "metadata": {},
   "source": [
    "### 35. Extract the protocol (http or https) from a URL string."
   ]
  },
  {
   "cell_type": "code",
   "execution_count": 6,
   "id": "5528e9c4-6627-43fa-b3ea-277e5d7498b4",
   "metadata": {},
   "outputs": [
    {
     "name": "stdin",
     "output_type": "stream",
     "text": [
      "Enter the URL \"https://www.example.com\"\n"
     ]
    },
    {
     "name": "stdout",
     "output_type": "stream",
     "text": [
      "\"https\n"
     ]
    }
   ],
   "source": [
    "url=str(input(\"Enter the URL\"))\n",
    "u=url.split(\":\")\n",
    "print(u[0])"
   ]
  },
  {
   "cell_type": "markdown",
   "id": "152d45e2-a6e7-462f-94c3-eda7f4029f23",
   "metadata": {},
   "source": [
    "### 36. Find the frequency of each character in a string."
   ]
  },
  {
   "cell_type": "code",
   "execution_count": 6,
   "id": "130c9467-340f-4c6b-90eb-97dcdacfb1d5",
   "metadata": {},
   "outputs": [
    {
     "name": "stdin",
     "output_type": "stream",
     "text": [
      "Enter the string Hello\n"
     ]
    },
    {
     "name": "stdout",
     "output_type": "stream",
     "text": [
      "count of H is  1\n",
      "count of e is  1\n",
      "count of l is  2\n",
      "count of l is  2\n",
      "count of o is  1\n"
     ]
    }
   ],
   "source": [
    "s=str(input(\"Enter the string\"))\n",
    "for i in s:\n",
    "    print(\"count of {} is \".format(i),s.count(i))"
   ]
  },
  {
   "cell_type": "markdown",
   "id": "c6f75a61-7686-4ca7-8ce4-d34d263deda3",
   "metadata": {},
   "source": [
    "### 37. Remove all punctuation from a string."
   ]
  },
  {
   "cell_type": "code",
   "execution_count": 8,
   "id": "f65476bb-2296-4032-baf9-b6a92a30271c",
   "metadata": {},
   "outputs": [
    {
     "name": "stdout",
     "output_type": "stream",
     "text": [
      "The original string is : Gfg, is best : for ! Geeks ;\n",
      "The string after punctuation filter : Gfg is best  for  Geeks \n"
     ]
    }
   ],
   "source": [
    "test_str = \"Gfg, is best : for ! Geeks ;\"\n",
    " \n",
    "# printing original string\n",
    "print(\"The original string is : \" + test_str)\n",
    " \n",
    "# initializing punctuations string\n",
    "punc = '''!()-[]{};:'\"\\,<>./?@#$%^&*_~'''\n",
    " \n",
    "for ele in test_str:\n",
    "    if ele in punc:\n",
    "        test_str = test_str.replace(ele, \"\")\n",
    " \n",
    "print(\"The string after punctuation filter : \" + test_str)"
   ]
  },
  {
   "cell_type": "markdown",
   "id": "9b1f8e31-2cd9-4714-90dd-7396b2f37e0b",
   "metadata": {},
   "source": [
    "### 38. Check if a string contains only digits."
   ]
  },
  {
   "cell_type": "code",
   "execution_count": 7,
   "id": "96d16535-58ee-44ed-b403-63589ddd0223",
   "metadata": {},
   "outputs": [
    {
     "name": "stdin",
     "output_type": "stream",
     "text": [
      "Enter the string 1234\n"
     ]
    },
    {
     "name": "stdout",
     "output_type": "stream",
     "text": [
      "YES\n"
     ]
    }
   ],
   "source": [
    "s=str(input(\"Enter the string\"))\n",
    "if (s.isdigit()):\n",
    "    print(\"YES\")\n",
    "else:\n",
    "    print(\"NO\")"
   ]
  },
  {
   "cell_type": "markdown",
   "id": "ad1bffe9-3d89-4d42-8d61-cdfe3cf41a79",
   "metadata": {},
   "source": [
    "### 39. Check if a string contains only alphabets."
   ]
  },
  {
   "cell_type": "code",
   "execution_count": 8,
   "id": "20a7176c-8bfd-46b6-966a-636e3f1109f7",
   "metadata": {},
   "outputs": [
    {
     "name": "stdin",
     "output_type": "stream",
     "text": [
      "Enter the string abc\n"
     ]
    },
    {
     "name": "stdout",
     "output_type": "stream",
     "text": [
      "YES\n"
     ]
    }
   ],
   "source": [
    "s=str(input(\"Enter the string\"))\n",
    "if (s.isalpha()):\n",
    "    print(\"YES\")\n",
    "else:\n",
    "    print(\"NO\")"
   ]
  },
  {
   "cell_type": "markdown",
   "id": "9ce37a12-030e-43ee-ba18-c893d8968682",
   "metadata": {},
   "source": [
    "### 40. Convert a string to a list of characters."
   ]
  },
  {
   "cell_type": "code",
   "execution_count": 11,
   "id": "77a2ef3a-2915-49e0-8d7c-9bbc78a674ba",
   "metadata": {},
   "outputs": [
    {
     "name": "stdin",
     "output_type": "stream",
     "text": [
      "Enter the string Hello\n"
     ]
    },
    {
     "data": {
      "text/plain": [
       "['H', 'e', 'l', 'l', 'o']"
      ]
     },
     "execution_count": 11,
     "metadata": {},
     "output_type": "execute_result"
    }
   ],
   "source": [
    "s=str(input(\"Enter the string\"))\n",
    "list(s)"
   ]
  },
  {
   "cell_type": "markdown",
   "id": "eea4f540-0d55-4cc2-a65d-b3cc3066cac4",
   "metadata": {},
   "source": [
    "### 41. Check if two strings are anagrams."
   ]
  },
  {
   "cell_type": "code",
   "execution_count": 9,
   "id": "36b4f85f-f097-40e4-ba78-5fca2f272801",
   "metadata": {},
   "outputs": [
    {
     "name": "stdin",
     "output_type": "stream",
     "text": [
      "Enter the string listen\n",
      "Enter the string silent\n"
     ]
    },
    {
     "name": "stdout",
     "output_type": "stream",
     "text": [
      "Given two strings are anagrams.\n"
     ]
    }
   ],
   "source": [
    "str1=str(input(\"Enter the string\"))\n",
    "str2=str(input(\"Enter the string\"))\n",
    "str1_list = list(str1)\n",
    "str1_list.sort()\n",
    "str2_list = list(str2)\n",
    "str2_list.sort()\n",
    "if (str1_list == str2_list):\n",
    "    print(\"Given two strings are anagrams.\")\n",
    "else:\n",
    "    print(\"Given two strings are not anagrams.\")"
   ]
  },
  {
   "cell_type": "markdown",
   "id": "ad71baea-9a62-45c9-8ab7-f65528036545",
   "metadata": {},
   "source": [
    "### 42. Encode a string using a Caesar cipher."
   ]
  },
  {
   "cell_type": "code",
   "execution_count": 9,
   "id": "855c1f2e-b038-45ec-8cf3-28028ebb3455",
   "metadata": {},
   "outputs": [
    {
     "name": "stdin",
     "output_type": "stream",
     "text": [
      "Enter the string Az\n",
      "Enter shift key 3\n"
     ]
    },
    {
     "name": "stdout",
     "output_type": "stream",
     "text": [
      " Dc\n"
     ]
    }
   ],
   "source": [
    "s=str(input(\"Enter the string\"))\n",
    "n=int(input(\"Enter shift key\"))\n",
    "ans=\" \"\n",
    "for ch in s:\n",
    "    if (ch.isupper()):\n",
    "            ans += chr((ord(ch) + n-65) % 26 + 65)\n",
    "    else:\n",
    "            ans += chr((ord(ch) + n-97) % 26 + 97)\n",
    "print(ans)"
   ]
  },
  {
   "cell_type": "markdown",
   "id": "b5492f5f-f716-4b56-8275-ef2deb71799f",
   "metadata": {},
   "source": [
    "### 43. Decode a Caesar cipher encoded string."
   ]
  },
  {
   "cell_type": "code",
   "execution_count": 10,
   "id": "f4e8b188-cbb3-4031-b0ac-8bd02c2afdf6",
   "metadata": {},
   "outputs": [
    {
     "name": "stdin",
     "output_type": "stream",
     "text": [
      "Enter the string Dc\n",
      "Enter shift key 3\n"
     ]
    },
    {
     "name": "stdout",
     "output_type": "stream",
     "text": [
      " Az\n"
     ]
    }
   ],
   "source": [
    "s=str(input(\"Enter the string\"))\n",
    "n=int(input(\"Enter shift key\"))\n",
    "ans=\" \"\n",
    "for ch in s:\n",
    "    if (ch.isupper()):\n",
    "            ans += chr((ord(ch) - n-65) % 26 + 65)\n",
    "    else:\n",
    "            ans += chr((ord(ch) - n-97) % 26 + 97)\n",
    "print(ans)"
   ]
  },
  {
   "cell_type": "markdown",
   "id": "cd591b41-6c83-4a98-86be-ee1142027024",
   "metadata": {},
   "source": [
    "### 44. Find the most frequent word in a string."
   ]
  },
  {
   "cell_type": "code",
   "execution_count": 4,
   "id": "2f69689d-9782-4be3-a063-a62f2453397d",
   "metadata": {},
   "outputs": [
    {
     "name": "stdout",
     "output_type": "stream",
     "text": [
      "Most frequent word: hello\n"
     ]
    }
   ],
   "source": [
    "import re\n",
    "from collections import Counter\n",
    "\n",
    "def most_frequent_word(input_string):\n",
    "    # Remove punctuation and convert to lowercase\n",
    "    clean_string = re.sub(r'[^\\w\\s]', '', input_string).lower()\n",
    "\n",
    "    # Split the string into words\n",
    "    words = clean_string.split()\n",
    "\n",
    "    # Use Counter to count word frequencies\n",
    "    word_counter = Counter(words)\n",
    "\n",
    "    # Find the most common word\n",
    "    most_common_word = word_counter.most_common(1)[0][0]\n",
    "\n",
    "    return most_common_word\n",
    "\n",
    "# Example string\n",
    "input_str = \"Hello world, hello threr! How's the world?\"\n",
    "\n",
    "# Find the most frequent word\n",
    "most_common = most_frequent_word(input_str)\n",
    "\n",
    "# Print the result\n",
    "print(\"Most frequent word:\", most_common)"
   ]
  },
  {
   "cell_type": "markdown",
   "id": "aec97f98-2d1c-4d87-8c61-9c60d129eb87",
   "metadata": {},
   "source": [
    "### 45. Find all unique words in a string."
   ]
  },
  {
   "cell_type": "code",
   "execution_count": 5,
   "id": "82d095ca-1c07-411a-9bb0-eb936140f2c2",
   "metadata": {},
   "outputs": [
    {
     "name": "stdout",
     "output_type": "stream",
     "text": [
      "Unique words: {'hello', 'world', 'there', 'the', 'hows'}\n"
     ]
    }
   ],
   "source": [
    "import re\n",
    "\n",
    "def unique_words(input_string):\n",
    "    # Remove punctuation and convert to lowercase\n",
    "    clean_string = re.sub(r'[^\\w\\s]', '', input_string).lower()\n",
    "\n",
    "    # Split the string into words and convert to a set for uniqueness\n",
    "    words = set(clean_string.split())\n",
    "\n",
    "    return words\n",
    "\n",
    "# Example string\n",
    "input_str = \"Hello world, hello there! How's the world?\"\n",
    "\n",
    "# Find unique words\n",
    "unique_word_set = unique_words(input_str)\n",
    "\n",
    "# Print the result\n",
    "print(\"Unique words:\", unique_word_set)"
   ]
  },
  {
   "cell_type": "markdown",
   "id": "32af16c9-31da-4bbb-ac29-9118a068c7f2",
   "metadata": {},
   "source": [
    "### 46. Count the number of syllables in a string."
   ]
  },
  {
   "cell_type": "code",
   "execution_count": 6,
   "id": "0dd7c1bf-55b1-452c-8ae0-84428b765727",
   "metadata": {},
   "outputs": [
    {
     "name": "stdin",
     "output_type": "stream",
     "text": [
      "Enter a word hello\n"
     ]
    },
    {
     "name": "stdout",
     "output_type": "stream",
     "text": [
      " 'hello' has 2 syllables.\n"
     ]
    }
   ],
   "source": [
    "def syllable_count(word):\n",
    "    count = 0\n",
    "    vowels = \"aeiouy\"\n",
    "    if word[0] in vowels:\n",
    "        count += 1\n",
    "    for index in range(1, len(word)):\n",
    "        if word[index] in vowels and word[index - 1] not in vowels:\n",
    "            count += 1\n",
    "            if word.endswith(\"e\"):\n",
    "                count -= 1\n",
    "    if count == 0:\n",
    "        count += 1\n",
    "    return count\n",
    "\n",
    "# Enter a word\n",
    "a=str(input(\"Enter a word\"))\n",
    "print(f\" '{a}' has {syllable_count(a)} syllables.\")"
   ]
  },
  {
   "cell_type": "markdown",
   "id": "c75336f0-efe2-4a19-85a6-8966b359c246",
   "metadata": {},
   "source": [
    "### 47.  Check if a string contains any special characters."
   ]
  },
  {
   "cell_type": "code",
   "execution_count": 8,
   "id": "22d68b94-a32f-4fe3-bc1a-0ad60ec5844e",
   "metadata": {},
   "outputs": [
    {
     "name": "stdin",
     "output_type": "stream",
     "text": [
      "Enter the string Hello13!\n"
     ]
    },
    {
     "name": "stdout",
     "output_type": "stream",
     "text": [
      "Given string has special character\n"
     ]
    }
   ],
   "source": [
    "s=str(input(\"Enter the string\"))\n",
    "count=0\n",
    "for i in s:\n",
    "    if not (i.isalnum()):\n",
    "        count+=1\n",
    "if (count!=0):\n",
    "    print(\"Given string has special character\")\n",
    "else:\n",
    "    print(\"Given string has no special character\")"
   ]
  },
  {
   "cell_type": "markdown",
   "id": "5d59389f-6ea0-4c78-a0be-36f823047dd4",
   "metadata": {},
   "source": [
    "### 48. Remove the nth word from a string."
   ]
  },
  {
   "cell_type": "code",
   "execution_count": 9,
   "id": "f24aa9df-731f-4d62-8ada-2f2740fd40d9",
   "metadata": {},
   "outputs": [
    {
     "name": "stdin",
     "output_type": "stream",
     "text": [
      "Enter the string Do not go that way\n",
      "Enter the number of word you want to remove. 2\n"
     ]
    },
    {
     "data": {
      "text/plain": [
       "'Do go that way'"
      ]
     },
     "execution_count": 9,
     "metadata": {},
     "output_type": "execute_result"
    }
   ],
   "source": [
    "s=str(input(\"Enter the string\"))\n",
    "n=int(input(\"Enter the number of word you want to remove.\"))\n",
    "l=s.split(\" \")\n",
    "l.pop(n-1)\n",
    "\" \".join(l)"
   ]
  },
  {
   "cell_type": "markdown",
   "id": "1c4fb341-7fd5-4ade-96a7-3329afb3ad51",
   "metadata": {},
   "source": [
    "### 49. Insert a word at the nth position in a string."
   ]
  },
  {
   "cell_type": "code",
   "execution_count": 11,
   "id": "660fb4a1-4a3a-4da9-8078-d401946e89a3",
   "metadata": {},
   "outputs": [
    {
     "name": "stdin",
     "output_type": "stream",
     "text": [
      "Enter the string Hello, World!\n",
      "Enter the word which you want to insert sam\n",
      "Enter the number of word you want to remove. 3 \n"
     ]
    },
    {
     "data": {
      "text/plain": [
       "'Hello, World! sam'"
      ]
     },
     "execution_count": 11,
     "metadata": {},
     "output_type": "execute_result"
    }
   ],
   "source": [
    "s=str(input(\"Enter the string\"))\n",
    "a=str(input(\"Enter the word which you want to insert\"))\n",
    "n=int(input(\"Enter the number of word you want to remove.\"))\n",
    "l=s.split(\" \")\n",
    "l.insert(n-1,a)\n",
    "\" \".join(l)"
   ]
  },
  {
   "cell_type": "markdown",
   "id": "e96815f6-545a-4614-bc03-86c8bacea07d",
   "metadata": {},
   "source": [
    "### 50. Convert a CSV string to a list of lists."
   ]
  },
  {
   "cell_type": "code",
   "execution_count": 9,
   "id": "64e8fe59-7168-4442-818f-e01385406d50",
   "metadata": {},
   "outputs": [
    {
     "name": "stdout",
     "output_type": "stream",
     "text": [
      "['Name', ' Age', ' Country']\n",
      "['John', ' 25', ' USA']\n",
      "['Alice', ' 30', ' Canada']\n",
      "['Bob', ' 22', ' UK']\n"
     ]
    }
   ],
   "source": [
    "def csv_string_to_list(csv_string):\n",
    "    # Split the CSV string into lines\n",
    "    lines = csv_string.split('\\n')\n",
    "\n",
    "    # Initialize an empty list to store the result\n",
    "    result = []\n",
    "\n",
    "    for line in lines:\n",
    "        # Split each line into fields using comma as the delimiter\n",
    "        fields = line.split(',')\n",
    "\n",
    "        # Append the fields to the result list as a row\n",
    "        result.append(fields)\n",
    "\n",
    "    return result\n",
    "\n",
    "# Example CSV string\n",
    "csv_data = \"Name, Age, Country\\nJohn, 25, USA\\nAlice, 30, Canada\\nBob, 22, UK\"\n",
    "\n",
    "# Convert CSV string to a list of lists\n",
    "list_of_lists = csv_string_to_list(csv_data)\n",
    "\n",
    "# Print the result\n",
    "for row in list_of_lists:\n",
    "    print(row)"
   ]
  },
  {
   "cell_type": "markdown",
   "id": "8fb416e1-14f8-4d84-ac3e-d16c7b31ab91",
   "metadata": {},
   "source": [
    "### List Based Practice Problem :\n",
    "---"
   ]
  },
  {
   "cell_type": "markdown",
   "id": "efff7b07-2948-4333-b0c3-3e6294081e7b",
   "metadata": {},
   "source": [
    "### 1. Create a list with integers from 1 to 10."
   ]
  },
  {
   "cell_type": "code",
   "execution_count": 14,
   "id": "ff6a483d-49c3-49be-a80d-4e93f3410db7",
   "metadata": {},
   "outputs": [
    {
     "name": "stdout",
     "output_type": "stream",
     "text": [
      "[1, 2, 3, 4, 5, 6, 7, 8, 9, 10]\n"
     ]
    }
   ],
   "source": [
    "l=list(range(1,11))\n",
    "print(l)"
   ]
  },
  {
   "cell_type": "markdown",
   "id": "3e4c6012-68e5-4a20-ba62-aab90c6fc2fa",
   "metadata": {},
   "source": [
    "### 2. Find the length of a list without using the `len()` function."
   ]
  },
  {
   "cell_type": "code",
   "execution_count": 10,
   "id": "33f10744-6a33-4855-a2ef-30038595050a",
   "metadata": {},
   "outputs": [
    {
     "name": "stdout",
     "output_type": "stream",
     "text": [
      "Lenght of the list: 5\n"
     ]
    }
   ],
   "source": [
    "n=['girl','boy','man','woman','dog']\n",
    "count=0\n",
    "for i in n:\n",
    "    count+=1\n",
    "print(\"Lenght of the list:\",count)"
   ]
  },
  {
   "cell_type": "markdown",
   "id": "782708d4-0f8e-41b1-b9b7-36a6d7c62d22",
   "metadata": {},
   "source": [
    "### 3. Append an element to the end of a list."
   ]
  },
  {
   "cell_type": "code",
   "execution_count": 18,
   "id": "11c1dabd-b9b8-43e2-a4ac-dfacd5c04f30",
   "metadata": {},
   "outputs": [
    {
     "name": "stdout",
     "output_type": "stream",
     "text": [
      "['girl', 'boy', 'man', 'woman', 'dog', '123']\n"
     ]
    }
   ],
   "source": [
    "n=['girl','boy','man','woman','dog']\n",
    "n.append('123')\n",
    "print(n)"
   ]
  },
  {
   "cell_type": "markdown",
   "id": "365e297e-b5ff-4824-91e3-8d7011fe574f",
   "metadata": {},
   "source": [
    "### 4. Insert an element at a specific index in a list."
   ]
  },
  {
   "cell_type": "code",
   "execution_count": 19,
   "id": "2bb08021-9920-410f-bcc8-9bcd85f0833e",
   "metadata": {},
   "outputs": [
    {
     "name": "stdout",
     "output_type": "stream",
     "text": [
      "['girl', 'boy', '123', 'man', 'woman', 'dog']\n"
     ]
    }
   ],
   "source": [
    "n=['girl','boy','man','woman','dog']\n",
    "n.insert(2,'123')\n",
    "print(n)"
   ]
  },
  {
   "cell_type": "markdown",
   "id": "744de070-fa04-4687-92f3-025eb08d73cb",
   "metadata": {},
   "source": [
    "### 5. Remove an element from a list by its value."
   ]
  },
  {
   "cell_type": "code",
   "execution_count": 21,
   "id": "e0ca8980-72be-43ca-8217-0fc69fc7181f",
   "metadata": {},
   "outputs": [
    {
     "name": "stdout",
     "output_type": "stream",
     "text": [
      "['girl', 'boy', 'man', 'woman']\n"
     ]
    }
   ],
   "source": [
    "n=['girl','boy','man','woman','dog']\n",
    "n.remove('dog')\n",
    "print(n)"
   ]
  },
  {
   "cell_type": "markdown",
   "id": "51c538d0-6485-48c1-bcb3-18417d654045",
   "metadata": {},
   "source": [
    "### 6. Remove an element from a list by its index."
   ]
  },
  {
   "cell_type": "code",
   "execution_count": 23,
   "id": "6fa2ee0b-34e5-46f6-a528-d418abc28fc3",
   "metadata": {},
   "outputs": [
    {
     "name": "stdout",
     "output_type": "stream",
     "text": [
      "['girl', 'boy', 'man', 'woman', 'dog']\n"
     ]
    }
   ],
   "source": [
    "lst=['girl', 'boy', '123', 'man', 'woman', 'dog']\n",
    "lst.pop(2)\n",
    "print(lst)"
   ]
  },
  {
   "cell_type": "markdown",
   "id": "2fc18d54-e2a4-4229-9ebd-bbe534b3f067",
   "metadata": {},
   "source": [
    "### 7. Check if an element exists in a list."
   ]
  },
  {
   "cell_type": "code",
   "execution_count": 24,
   "id": "4a8f9e57-5f71-4ca7-9f1a-b2beaa4856f6",
   "metadata": {},
   "outputs": [
    {
     "name": "stdin",
     "output_type": "stream",
     "text": [
      "Enter the word 123\n"
     ]
    },
    {
     "name": "stdout",
     "output_type": "stream",
     "text": [
      "FOUND\n"
     ]
    }
   ],
   "source": [
    "lst=['girl', 'boy', '123', 'man', 'woman', 'dog']\n",
    "s=str(input(\"Enter the word\"))\n",
    "if s in lst:\n",
    "    print(\"FOUND\")\n",
    "else:\n",
    "    print(\"DOES NOT FOUND\")"
   ]
  },
  {
   "cell_type": "markdown",
   "id": "0c7adff8-9153-42f2-8d0e-8d548523f05f",
   "metadata": {},
   "source": [
    "### 8. Find the index of the first occurrence of an element in a list."
   ]
  },
  {
   "cell_type": "code",
   "execution_count": 11,
   "id": "09590e34-8484-4809-aefa-e716701782bf",
   "metadata": {},
   "outputs": [
    {
     "name": "stdout",
     "output_type": "stream",
     "text": [
      "index of 123 is 2\n"
     ]
    }
   ],
   "source": [
    "lst=['girl', 'boy', '123', 'man', 'woman', 'dog']\n",
    "element_to_find='123'\n",
    "print(f\"index of {element_to_find} is { lst.index(element_to_find)}\")"
   ]
  },
  {
   "cell_type": "markdown",
   "id": "482055b7-4189-4951-a746-e987004cecd0",
   "metadata": {},
   "source": [
    "### 9. Count the occurrences of an element in a list."
   ]
  },
  {
   "cell_type": "code",
   "execution_count": 3,
   "id": "a0365d08-7c85-435b-8389-40047c456395",
   "metadata": {},
   "outputs": [
    {
     "name": "stdin",
     "output_type": "stream",
     "text": [
      "Enter the number of elements 5\n",
      " 123\n",
      " dog\n",
      " man\n",
      " dog\n",
      " 123\n"
     ]
    },
    {
     "name": "stdout",
     "output_type": "stream",
     "text": [
      "Count of 123 is  2\n",
      "Count of dog is  2\n",
      "Count of man is  1\n",
      "Count of dog is  2\n",
      "Count of 123 is  2\n"
     ]
    }
   ],
   "source": [
    "n=int(input(\"Enter the number of elements\"))\n",
    "s=[]\n",
    "for i in range(n):\n",
    "    s.append(input())\n",
    "for j in s:\n",
    "    print(\"Count of {} is \".format(j),s.count(j))"
   ]
  },
  {
   "cell_type": "markdown",
   "id": "1ff1e710-ae29-40d7-b612-1e95c9decfca",
   "metadata": {},
   "source": [
    "### 10. Reverse the order of elements in a list."
   ]
  },
  {
   "cell_type": "code",
   "execution_count": 32,
   "id": "c5955406-a671-46dc-8c71-18223171d166",
   "metadata": {},
   "outputs": [
    {
     "name": "stdout",
     "output_type": "stream",
     "text": [
      "['dog', 'woman', 'man', '123', 'boy', 'girl']\n"
     ]
    }
   ],
   "source": [
    "lst=['girl', 'boy', '123', 'man', 'woman', 'dog']\n",
    "lst.reverse()\n",
    "print(lst)"
   ]
  },
  {
   "cell_type": "markdown",
   "id": "cae69b2a-1aaf-41d8-9d7d-467e6d0e2a01",
   "metadata": {},
   "source": [
    "### 11. Sort a list in ascending order."
   ]
  },
  {
   "cell_type": "code",
   "execution_count": 12,
   "id": "d15eba7c-9a67-457c-ba61-ea26892b15d3",
   "metadata": {},
   "outputs": [
    {
     "name": "stdout",
     "output_type": "stream",
     "text": [
      "[10, 20, 30, 40, 50]\n"
     ]
    }
   ],
   "source": [
    "lst=[50, 10, 30, 40, 20]\n",
    "lst.sort()\n",
    "print(lst)"
   ]
  },
  {
   "cell_type": "markdown",
   "id": "67d6ee73-8f89-4a51-bb46-03405a539d37",
   "metadata": {},
   "source": [
    "### 12. Sort a list in descending order."
   ]
  },
  {
   "cell_type": "code",
   "execution_count": 13,
   "id": "89ae0db6-91cf-4ae4-af6e-886157462c78",
   "metadata": {},
   "outputs": [
    {
     "name": "stdout",
     "output_type": "stream",
     "text": [
      "[50, 40, 30, 20, 10]\n"
     ]
    }
   ],
   "source": [
    "lst=[50, 10, 30, 40, 20]\n",
    "lst.sort()\n",
    "lst.reverse()\n",
    "print(lst)"
   ]
  },
  {
   "cell_type": "markdown",
   "id": "f31b4b18-1050-4698-8489-6df8d4b5e6fe",
   "metadata": {},
   "source": [
    "### 13. Create a list of even numbers from 1 to 20."
   ]
  },
  {
   "cell_type": "code",
   "execution_count": 4,
   "id": "9014d275-a67a-4857-bce2-1ba573d4eda9",
   "metadata": {},
   "outputs": [
    {
     "data": {
      "text/plain": [
       "[2, 4, 6, 8, 10, 12, 14, 16, 18, 20]"
      ]
     },
     "execution_count": 4,
     "metadata": {},
     "output_type": "execute_result"
    }
   ],
   "source": [
    "list(range(2,21,2))"
   ]
  },
  {
   "cell_type": "markdown",
   "id": "e495246c-f1a5-44b8-be55-c4daf6ac8cf4",
   "metadata": {},
   "source": [
    "### 14. Create a list of odd numbers from 1 to 20."
   ]
  },
  {
   "cell_type": "code",
   "execution_count": 5,
   "id": "78cead0d-7412-4974-9d2f-827dda26c8ef",
   "metadata": {},
   "outputs": [
    {
     "data": {
      "text/plain": [
       "[1, 3, 5, 7, 9, 11, 13, 15, 17, 19]"
      ]
     },
     "execution_count": 5,
     "metadata": {},
     "output_type": "execute_result"
    }
   ],
   "source": [
    "list(range(1,21,2))"
   ]
  },
  {
   "cell_type": "markdown",
   "id": "b4e67adb-e858-4f64-a56e-93619a4cacd4",
   "metadata": {},
   "source": [
    "### 15. Find the sum of all elements in a list."
   ]
  },
  {
   "cell_type": "code",
   "execution_count": 2,
   "id": "9e690d27-2f41-41dd-ace5-db084815be47",
   "metadata": {},
   "outputs": [
    {
     "name": "stdin",
     "output_type": "stream",
     "text": [
      "Enter the number of elements 5\n",
      " 1 \n",
      " 2\n",
      " 3\n",
      " 4\n",
      " 5\n"
     ]
    },
    {
     "name": "stdout",
     "output_type": "stream",
     "text": [
      "Sum of all elements in list is  15\n"
     ]
    }
   ],
   "source": [
    "n=int(input(\"Enter the number of elements\"))\n",
    "s=[]\n",
    "for i in range(n):\n",
    "    s.append(int(input()))\n",
    "count=0\n",
    "for i in s:\n",
    "    count+=i\n",
    "print(\"Sum of all elements in list is \",count)"
   ]
  },
  {
   "cell_type": "markdown",
   "id": "122098d2-92b0-4e88-b666-28c2c4f6d547",
   "metadata": {},
   "source": [
    "### 16. Find the maximum value in a list."
   ]
  },
  {
   "cell_type": "code",
   "execution_count": 5,
   "id": "7a95ac79-5d5c-43a1-a05c-b72d722a456e",
   "metadata": {},
   "outputs": [
    {
     "name": "stdin",
     "output_type": "stream",
     "text": [
      "Enter the number of elements 5\n",
      " 25\n",
      " 47\n",
      " 26\n",
      " 59\n",
      " 16\n"
     ]
    },
    {
     "name": "stdout",
     "output_type": "stream",
     "text": [
      "Maximum value of the list is  59\n"
     ]
    }
   ],
   "source": [
    "n=int(input(\"Enter the number of elements\"))\n",
    "s=[]\n",
    "for i in range(n):\n",
    "    s.append(int(input()))\n",
    "print(\"Maximum value of the list is \",max(s))"
   ]
  },
  {
   "cell_type": "markdown",
   "id": "43739f87-f322-4870-bc70-cc75cad5dfc3",
   "metadata": {},
   "source": [
    "### 17. Find the minimum value in a list."
   ]
  },
  {
   "cell_type": "code",
   "execution_count": 6,
   "id": "21a8a8ea-8c7c-4642-bc6a-55875768d102",
   "metadata": {},
   "outputs": [
    {
     "name": "stdin",
     "output_type": "stream",
     "text": [
      "Enter the number of elements 5\n",
      " 26\n",
      " 38\n",
      " 35\n",
      " 19\n",
      " 39\n"
     ]
    },
    {
     "name": "stdout",
     "output_type": "stream",
     "text": [
      "Maximum value of the list is  19\n"
     ]
    }
   ],
   "source": [
    "n=int(input(\"Enter the number of elements\"))\n",
    "s=[]\n",
    "for i in range(n):\n",
    "    s.append(int(input()))\n",
    "print(\"Maximum value of the list is \",min(s))"
   ]
  },
  {
   "cell_type": "markdown",
   "id": "982e511e-94d2-47c7-84c8-a920703e7e40",
   "metadata": {},
   "source": [
    "### 18. Create a list of squares of numbers from 1 to 10."
   ]
  },
  {
   "cell_type": "code",
   "execution_count": 15,
   "id": "8127b0cc-766e-43f4-8d54-a63ef6a61ebf",
   "metadata": {},
   "outputs": [
    {
     "name": "stdout",
     "output_type": "stream",
     "text": [
      "[1, 4, 9, 16, 25, 36, 49, 64, 81, 100]\n"
     ]
    }
   ],
   "source": [
    "s=list(range(1,11))\n",
    "lst=[]\n",
    "for i in s:\n",
    "    lst.append(i**2)\n",
    "print(lst)"
   ]
  },
  {
   "cell_type": "markdown",
   "id": "136dee6a-d084-4c9d-9b43-f29683bfb8df",
   "metadata": {},
   "source": [
    "### 19. Create a list of random numbers."
   ]
  },
  {
   "cell_type": "code",
   "execution_count": 6,
   "id": "cf5e143c-871a-4868-9d3c-ecd8a3ba6e2f",
   "metadata": {},
   "outputs": [
    {
     "name": "stdin",
     "output_type": "stream",
     "text": [
      "Enter the number of elements 5\n"
     ]
    },
    {
     "name": "stdout",
     "output_type": "stream",
     "text": [
      "[7, 10, 3, 9, 9]\n"
     ]
    }
   ],
   "source": [
    "import random\n",
    "n=int(input(\"Enter the number of elements\"))\n",
    "s=[]\n",
    "for i in range(n):\n",
    "    a=random.randint(0,20)\n",
    "    s.append(a)\n",
    "print(s)"
   ]
  },
  {
   "cell_type": "markdown",
   "id": "cb11901f-6f10-4dd7-980d-2570c50578d3",
   "metadata": {},
   "source": [
    "### 20. Remove duplicates from a list."
   ]
  },
  {
   "cell_type": "code",
   "execution_count": 10,
   "id": "f1262b14-d7da-42d4-8936-b6bccdf98e60",
   "metadata": {},
   "outputs": [
    {
     "name": "stdin",
     "output_type": "stream",
     "text": [
      "Enter the number of elements 5\n",
      " 23\n",
      " 23\n",
      " dog\n",
      " dog\n",
      " man\n"
     ]
    },
    {
     "name": "stdout",
     "output_type": "stream",
     "text": [
      "['23', 'man', 'dog']\n"
     ]
    }
   ],
   "source": [
    "n=int(input(\"Enter the number of elements\"))\n",
    "s=[]\n",
    "for i in range(n):\n",
    "    s.append(input())\n",
    "a=set(s)\n",
    "print(list(a))"
   ]
  },
  {
   "cell_type": "markdown",
   "id": "e7ba3599-0c82-4bf1-80da-5024190864f4",
   "metadata": {},
   "source": [
    "### 21. Find the common elements between two lists."
   ]
  },
  {
   "cell_type": "code",
   "execution_count": 12,
   "id": "37435585-6bdf-4b97-be53-50d02c391d36",
   "metadata": {},
   "outputs": [
    {
     "name": "stdin",
     "output_type": "stream",
     "text": [
      "Enter the number of elements 5\n"
     ]
    },
    {
     "name": "stdout",
     "output_type": "stream",
     "text": [
      "First list\n"
     ]
    },
    {
     "name": "stdin",
     "output_type": "stream",
     "text": [
      " 2\n",
      " 4\n",
      " 1\n",
      " 4\n",
      " 2\n"
     ]
    },
    {
     "name": "stdout",
     "output_type": "stream",
     "text": [
      "Second list\n"
     ]
    },
    {
     "name": "stdin",
     "output_type": "stream",
     "text": [
      " 4\n",
      " 7\n",
      " 4\n",
      " \n",
      " 5\n"
     ]
    },
    {
     "name": "stdout",
     "output_type": "stream",
     "text": [
      "{'4'}\n"
     ]
    }
   ],
   "source": [
    "n=int(input(\"Enter the number of elements\"))\n",
    "print(\"First list\")\n",
    "str1=[]\n",
    "for i in range(n):\n",
    "    str1.append(input())\n",
    "print(\"Second list\")\n",
    "str2=[]\n",
    "for i in range(n):\n",
    "    str2.append(input())\n",
    "if (set(str1) & set(str2)):\n",
    "    print(set(str1) & set(str2))\n",
    "else:\n",
    "    print(\"No common elements\")"
   ]
  },
  {
   "cell_type": "markdown",
   "id": "3991d052-bcee-4f62-9332-88b286fe9d67",
   "metadata": {},
   "source": [
    "### 22. Find the difference between two lists."
   ]
  },
  {
   "cell_type": "code",
   "execution_count": 14,
   "id": "bf252944-bd5f-4c58-bf23-a0ee4649c198",
   "metadata": {},
   "outputs": [
    {
     "name": "stdin",
     "output_type": "stream",
     "text": [
      "Enter the number of elements 5\n"
     ]
    },
    {
     "name": "stdout",
     "output_type": "stream",
     "text": [
      "First list\n"
     ]
    },
    {
     "name": "stdin",
     "output_type": "stream",
     "text": [
      " 1\n",
      " 2\n",
      " 3\n",
      " 4\n",
      " 5\n"
     ]
    },
    {
     "name": "stdout",
     "output_type": "stream",
     "text": [
      "Second list\n"
     ]
    },
    {
     "name": "stdin",
     "output_type": "stream",
     "text": [
      " 3\n",
      " 4\n",
      " 5\n",
      " 6\n",
      " 7\n"
     ]
    },
    {
     "name": "stdout",
     "output_type": "stream",
     "text": [
      "{'1', '2'}\n"
     ]
    }
   ],
   "source": [
    "n=int(input(\"Enter the number of elements\"))\n",
    "print(\"First list\")\n",
    "str1=[]\n",
    "for i in range(n):\n",
    "    str1.append(input())\n",
    "print(\"Second list\")\n",
    "str2=[]\n",
    "for i in range(n):\n",
    "    str2.append(input())\n",
    "s=set(str1)-set(str2)\n",
    "print(s)"
   ]
  },
  {
   "cell_type": "markdown",
   "id": "7faa5875-4bc3-4531-ba21-c25513d8bacf",
   "metadata": {},
   "source": [
    "### 23. Merge two lists."
   ]
  },
  {
   "cell_type": "code",
   "execution_count": 17,
   "id": "32b580d5-15eb-4c41-86b9-052cb9b19033",
   "metadata": {},
   "outputs": [
    {
     "name": "stdin",
     "output_type": "stream",
     "text": [
      "Enter the number of elements 4\n"
     ]
    },
    {
     "name": "stdout",
     "output_type": "stream",
     "text": [
      "First list\n"
     ]
    },
    {
     "name": "stdin",
     "output_type": "stream",
     "text": [
      " 1\n",
      " 2\n",
      " 3\n",
      " 4\n"
     ]
    },
    {
     "name": "stdout",
     "output_type": "stream",
     "text": [
      "Second list\n"
     ]
    },
    {
     "name": "stdin",
     "output_type": "stream",
     "text": [
      " 9\n",
      " 8\n",
      " 7\n",
      " 6\n"
     ]
    },
    {
     "name": "stdout",
     "output_type": "stream",
     "text": [
      "['1', '2', '3', '4', '9', '8', '7', '6']\n"
     ]
    }
   ],
   "source": [
    "n=int(input(\"Enter the number of elements\"))\n",
    "print(\"First list\")\n",
    "str1=[]\n",
    "for i in range(n):\n",
    "    str1.append(input())\n",
    "print(\"Second list\")\n",
    "str2=[]\n",
    "for i in range(n):\n",
    "    str2.append(input())\n",
    "str1.extend(str2)\n",
    "print(str1)"
   ]
  },
  {
   "cell_type": "markdown",
   "id": "0b883115-2110-4dfb-98ae-d3acc67a16f2",
   "metadata": {},
   "source": [
    "### 24. Multiply all elements in a list by 2."
   ]
  },
  {
   "cell_type": "code",
   "execution_count": 17,
   "id": "3f2a4893-4423-473f-81c4-6cb40e299433",
   "metadata": {},
   "outputs": [
    {
     "name": "stdin",
     "output_type": "stream",
     "text": [
      "Enter the number of elements 5\n",
      " 1\n",
      " 2\n",
      " 3\n",
      " 4\n",
      " 5\n"
     ]
    },
    {
     "name": "stdout",
     "output_type": "stream",
     "text": [
      "After multiplying with 2:\n",
      "2 4 6 8 10 "
     ]
    }
   ],
   "source": [
    "n=int(input(\"Enter the number of elements\"))\n",
    "s=[]\n",
    "for i in range(n):\n",
    "    s.append(int(input()))\n",
    "print(\"After multiplying with 2:\")\n",
    "for j in s:\n",
    "    print(j*2,end=\" \")"
   ]
  },
  {
   "cell_type": "markdown",
   "id": "0537fc85-e81d-4e65-a2df-950c2c7bb3a7",
   "metadata": {},
   "source": [
    "### 25. Filter out all even numbers from a list."
   ]
  },
  {
   "cell_type": "code",
   "execution_count": 2,
   "id": "518ca613-2edf-46a1-a4ee-4f6d0c975b8b",
   "metadata": {},
   "outputs": [
    {
     "name": "stdin",
     "output_type": "stream",
     "text": [
      "Enter the number of elements 5\n",
      " 2\n",
      " 6\n",
      " 4\n",
      " 1\n",
      " 5\n"
     ]
    },
    {
     "name": "stdout",
     "output_type": "stream",
     "text": [
      "Even numbers are in list\n",
      "2 6 4 "
     ]
    }
   ],
   "source": [
    "n=int(input(\"Enter the number of elements\"))\n",
    "s=[]\n",
    "for i in range(n):\n",
    "    s.append(int(input()))\n",
    "print(\"Even numbers are in list\")\n",
    "for j in s:\n",
    "    if (j%2==0):\n",
    "        print(j,end=\" \")"
   ]
  },
  {
   "cell_type": "markdown",
   "id": "f06058c7-8c41-4a64-a512-b4a6f075c2ae",
   "metadata": {},
   "source": [
    "### 26. Convert a list of strings to a list of integers."
   ]
  },
  {
   "cell_type": "code",
   "execution_count": 4,
   "id": "e1383eae-bc14-4c3e-a4a0-357fb3ff233e",
   "metadata": {},
   "outputs": [
    {
     "name": "stdout",
     "output_type": "stream",
     "text": [
      "[1, 2, 3, 4, 9, 8, 7, 6]\n"
     ]
    }
   ],
   "source": [
    "s=['1', '2', '3', '4', '9', '8', '7', '6']\n",
    "l=[]\n",
    "for i in s:\n",
    "    l.append(int(i))\n",
    "print(l)"
   ]
  },
  {
   "cell_type": "markdown",
   "id": "3fca94d6-cc5b-4c71-89b4-ca6f2b50efd6",
   "metadata": {},
   "source": [
    "### 27. Convert a list of integers to a list of strings."
   ]
  },
  {
   "cell_type": "code",
   "execution_count": 5,
   "id": "e55455d8-9fe2-4fc6-8b19-7578d6a207fa",
   "metadata": {},
   "outputs": [
    {
     "name": "stdout",
     "output_type": "stream",
     "text": [
      "['1', '2', '3', '4', '9', '8', '7', '6']\n"
     ]
    }
   ],
   "source": [
    "s=[1, 2, 3, 4, 9, 8, 7, 6]\n",
    "l=[]\n",
    "for i in s:\n",
    "    l.append(str(i))\n",
    "print(l)"
   ]
  },
  {
   "cell_type": "markdown",
   "id": "3b9f751c-cf02-4635-bd16-cea66c0e0865",
   "metadata": {},
   "source": [
    "### 28. Flatten a nested list."
   ]
  },
  {
   "cell_type": "code",
   "execution_count": 7,
   "id": "b2884217-2ba1-49ba-b403-47731ab6f861",
   "metadata": {},
   "outputs": [
    {
     "name": "stdout",
     "output_type": "stream",
     "text": [
      "[1, 2, 3, 4, 5, 6, 7]\n"
     ]
    }
   ],
   "source": [
    "my_list = [[1], [2, 3], [4, 5, 6, 7]]\n",
    "l=[]\n",
    "for i in my_list:\n",
    "    for j in i:\n",
    "        l.append(j)\n",
    "print(l)"
   ]
  },
  {
   "cell_type": "markdown",
   "id": "c443d620-297e-4361-8692-db3b8c8c02e0",
   "metadata": {},
   "source": [
    "### 29. Create a list of the first 10 Fibonacci numbers."
   ]
  },
  {
   "cell_type": "code",
   "execution_count": 2,
   "id": "9380f042-40f3-48b5-9d5e-6c12166f292a",
   "metadata": {},
   "outputs": [
    {
     "name": "stdout",
     "output_type": "stream",
     "text": [
      "[0, 1, 1, 2, 3, 5, 8, 13, 21, 34]\n"
     ]
    }
   ],
   "source": [
    "l=[0,1]\n",
    "a,b=0,1\n",
    "for i in range(8):\n",
    "    ans=a+b\n",
    "    l.append(ans)\n",
    "    a=b\n",
    "    b=ans\n",
    "print(l)"
   ]
  },
  {
   "cell_type": "markdown",
   "id": "122646ba-2258-4ae5-a939-e862b34ea5b4",
   "metadata": {},
   "source": [
    "### 30. Check if a list is sorted."
   ]
  },
  {
   "cell_type": "code",
   "execution_count": 3,
   "id": "a1182391-8be5-40fb-9b3e-b083d97d3311",
   "metadata": {},
   "outputs": [
    {
     "name": "stdout",
     "output_type": "stream",
     "text": [
      "Enter the numbers from 1 to 6\n"
     ]
    },
    {
     "name": "stdin",
     "output_type": "stream",
     "text": [
      " 2\n",
      " 3\n",
      " 2\n",
      " 1\n",
      " 5\n",
      " 4\n"
     ]
    },
    {
     "name": "stdout",
     "output_type": "stream",
     "text": [
      "Given list is not sorted.\n"
     ]
    }
   ],
   "source": [
    "l=[1,2,3,4,5,6]\n",
    "print(\"Enter the numbers from 1 to 6\")\n",
    "s=[]\n",
    "for i in range(6):\n",
    "    s.append(int(input()))\n",
    "a=s.sort()\n",
    "if (l==a):\n",
    "    print(\"Given list is sorted.\")\n",
    "else:\n",
    "    print(\"Given list is not sorted.\")"
   ]
  },
  {
   "cell_type": "markdown",
   "id": "50608a88-b2ff-4190-bece-2ec8be35be97",
   "metadata": {},
   "source": [
    "### 31. Rotate a list to the left by `n` positions."
   ]
  },
  {
   "cell_type": "code",
   "execution_count": 6,
   "id": "08fcfe5a-1b7d-4c17-9225-d2c6d61274ba",
   "metadata": {},
   "outputs": [
    {
     "name": "stdin",
     "output_type": "stream",
     "text": [
      "Enter the number of elements 6\n",
      "Enter the number 2\n"
     ]
    },
    {
     "name": "stdout",
     "output_type": "stream",
     "text": [
      "Enter the elements\n"
     ]
    },
    {
     "name": "stdin",
     "output_type": "stream",
     "text": [
      " 1\n",
      " 2\n",
      " 3\n",
      " 4\n",
      " 5\n",
      " 6\n"
     ]
    },
    {
     "name": "stdout",
     "output_type": "stream",
     "text": [
      "Original list ['1', '2', '3', '4', '5', '6']\n",
      "[3, 4, 5, 6, 1, 2]\n"
     ]
    }
   ],
   "source": [
    "n=int(input(\"Enter the number of elements\"))\n",
    "m=int(input(\"Enter the number\"))\n",
    "print(\"Enter the elements\")\n",
    "s=[]\n",
    "for i in range(n):\n",
    "    s.append(input())\n",
    "print(\"Original list\",s)\n",
    "lst=[]\n",
    "for j in range(n):\n",
    "    a=l[(j+m)%n]\n",
    "    lst.append(a)\n",
    "print(lst)"
   ]
  },
  {
   "cell_type": "markdown",
   "id": "954b53d6-2882-43da-8889-b16c628ecb1c",
   "metadata": {},
   "source": [
    "### 32. Rotate a list to the right by `n` positions."
   ]
  },
  {
   "cell_type": "code",
   "execution_count": 8,
   "id": "a737a7b4-77a4-4bfb-a257-42bb29625deb",
   "metadata": {},
   "outputs": [
    {
     "name": "stdin",
     "output_type": "stream",
     "text": [
      "Enter the number of elements 6\n",
      "Enter the number 2\n"
     ]
    },
    {
     "name": "stdout",
     "output_type": "stream",
     "text": [
      "Enter the elements\n"
     ]
    },
    {
     "name": "stdin",
     "output_type": "stream",
     "text": [
      " 1\n",
      " 2\n",
      " 3\n",
      " 4\n",
      " 5\n",
      " 6\n"
     ]
    },
    {
     "name": "stdout",
     "output_type": "stream",
     "text": [
      "Original list ['1', '2', '3', '4', '5', '6']\n",
      "[5, 6, 1, 2, 3, 4]\n"
     ]
    }
   ],
   "source": [
    "n=int(input(\"Enter the number of elements\"))\n",
    "m=int(input(\"Enter the number\"))\n",
    "print(\"Enter the elements\")\n",
    "s=[]\n",
    "for i in range(n):\n",
    "    s.append(input())\n",
    "print(\"Original list\",s)\n",
    "lst=[]\n",
    "for j in range(n):\n",
    "    a=l[(j-m)%n]\n",
    "    lst.append(a)\n",
    "print(lst)"
   ]
  },
  {
   "cell_type": "markdown",
   "id": "2ff2c964-e350-4472-9048-444ec9a0d6b5",
   "metadata": {},
   "source": [
    "### 33. Create a list of prime numbers up to 50."
   ]
  },
  {
   "cell_type": "code",
   "execution_count": 11,
   "id": "487a6992-9fae-4afe-8c26-99bd376f9b5a",
   "metadata": {},
   "outputs": [
    {
     "name": "stdout",
     "output_type": "stream",
     "text": [
      "[2, 3, 5, 7, 9, 11, 13, 15, 17, 19, 21, 23, 25, 27, 29, 31, 33, 35, 37, 39, 41, 43, 45, 47, 49]\n"
     ]
    }
   ],
   "source": [
    "l=[2]\n",
    "for i in range(2,51):\n",
    "    for j in range(2,i):\n",
    "        if (i%j==0):\n",
    "            break\n",
    "        else:\n",
    "            l.append(i)\n",
    "l=set(l)\n",
    "print(list(l))"
   ]
  },
  {
   "cell_type": "markdown",
   "id": "80fb6309-368b-41d7-bddd-e77ea6253071",
   "metadata": {},
   "source": [
    "### 34. Split a list into chunks of size `n`."
   ]
  },
  {
   "cell_type": "code",
   "execution_count": 10,
   "id": "3fc30311-c9d6-4ec2-949f-df70f0a99d15",
   "metadata": {},
   "outputs": [
    {
     "name": "stdin",
     "output_type": "stream",
     "text": [
      "Enter the number 3\n"
     ]
    },
    {
     "name": "stdout",
     "output_type": "stream",
     "text": [
      "[1, 2, 3]\n",
      "[4, 5, 6]\n",
      "[7, 8, 9]\n",
      "[10]\n"
     ]
    }
   ],
   "source": [
    "my_list = [1, 2, 3, 4, 5, 6, 7, 8, 9, 10]\n",
    "m=int(input(\"Enter the number\"))\n",
    "for i in range(0,len(my_list),m):\n",
    "    print(my_list[i:i+m])"
   ]
  },
  {
   "cell_type": "markdown",
   "id": "f78ec1a9-2cd1-4ef4-a206-4539dbf6aac4",
   "metadata": {},
   "source": [
    "### 35. Find the second largest number in a list."
   ]
  },
  {
   "cell_type": "code",
   "execution_count": 13,
   "id": "af6a6a76-d14c-4ddb-a072-da52f18a7253",
   "metadata": {},
   "outputs": [
    {
     "name": "stdin",
     "output_type": "stream",
     "text": [
      "Enter the number of elements 5\n"
     ]
    },
    {
     "name": "stdout",
     "output_type": "stream",
     "text": [
      "Enter the elements\n"
     ]
    },
    {
     "name": "stdin",
     "output_type": "stream",
     "text": [
      " 1\n",
      " 2\n",
      " 3\n",
      " 4\n",
      " 5\n"
     ]
    },
    {
     "name": "stdout",
     "output_type": "stream",
     "text": [
      "Second maximum value of the given list is  4\n"
     ]
    }
   ],
   "source": [
    "n=int(input(\"Enter the number of elements\"))\n",
    "print(\"Enter the elements\")\n",
    "s=[]\n",
    "for i in range(n):\n",
    "    s.append(int(input()))\n",
    "max1=max(s)\n",
    "s.remove(max1)\n",
    "print(\"Second maximum value of the given list is \",max(s))"
   ]
  },
  {
   "cell_type": "markdown",
   "id": "8f2b096a-49cd-4797-9da0-4065d3328790",
   "metadata": {},
   "source": [
    "### 36. Replace every element in a list with its square."
   ]
  },
  {
   "cell_type": "code",
   "execution_count": 16,
   "id": "70c6be59-7d48-4b14-815b-ec5e4d01ed4c",
   "metadata": {},
   "outputs": [
    {
     "name": "stdin",
     "output_type": "stream",
     "text": [
      "Enter the number of elements 4\n"
     ]
    },
    {
     "name": "stdout",
     "output_type": "stream",
     "text": [
      "Enter the elements\n"
     ]
    },
    {
     "name": "stdin",
     "output_type": "stream",
     "text": [
      " 54\n",
      " 67\n",
      " 32\n",
      " 98\n"
     ]
    },
    {
     "name": "stdout",
     "output_type": "stream",
     "text": [
      "Original list [54, 67, 32, 98]\n",
      "Square of every elements in list [2916, 4489, 1024, 9604]\n"
     ]
    }
   ],
   "source": [
    "n=int(input(\"Enter the number of elements\"))\n",
    "print(\"Enter the elements\")\n",
    "s=[]\n",
    "for i in range(n):\n",
    "    s.append(int(input()))\n",
    "print(\"Original list\",s)\n",
    "for j in range(len(s)):\n",
    "    s[j]=s[j]**2\n",
    "print(\"Square of every elements in list\",s)"
   ]
  },
  {
   "cell_type": "markdown",
   "id": "53a521e4-d0fe-48f7-bc44-bcd27608f645",
   "metadata": {},
   "source": [
    "### 37. Convert a list to a dictionary where list elements become keys and their indices become values.\n"
   ]
  },
  {
   "cell_type": "code",
   "execution_count": 19,
   "id": "93cc151b-2d05-4816-806e-edcd0fc6c0b3",
   "metadata": {},
   "outputs": [
    {
     "name": "stdout",
     "output_type": "stream",
     "text": [
      "{0: 'zero', 1: 'one', 2: 'two', 3: 'three'}\n"
     ]
    }
   ],
   "source": [
    "lst=['zero','one','two','three']\n",
    "my_dict={k:n for k,n in enumerate(lst)}\n",
    "print(my_dict)"
   ]
  },
  {
   "cell_type": "markdown",
   "id": "cd1593ad-fa19-4a72-800d-f3369200ae88",
   "metadata": {},
   "source": [
    "### 38. Shuffle the elements of a list randomly"
   ]
  },
  {
   "cell_type": "code",
   "execution_count": 18,
   "id": "0a13df47-9789-44ed-8d81-69ba787662eb",
   "metadata": {},
   "outputs": [
    {
     "name": "stdin",
     "output_type": "stream",
     "text": [
      "Enter the number of elements 5\n"
     ]
    },
    {
     "name": "stdout",
     "output_type": "stream",
     "text": [
      "Enter the elements\n"
     ]
    },
    {
     "name": "stdin",
     "output_type": "stream",
     "text": [
      " 36\n",
      " 59\n",
      " 56\n",
      " 29\n",
      " 55\n"
     ]
    },
    {
     "name": "stdout",
     "output_type": "stream",
     "text": [
      "Original list [36, 59, 56, 29, 55]\n",
      "After shuffling the elements of list  [56, 55, 36, 29, 59]\n"
     ]
    }
   ],
   "source": [
    "import random\n",
    "n=int(input(\"Enter the number of elements\"))\n",
    "print(\"Enter the elements\")\n",
    "s=[]\n",
    "for i in range(n):\n",
    "    s.append(int(input()))\n",
    "print(\"Original list\",s)\n",
    "random.shuffle(s)\n",
    "print(\"After shuffling the elements of list \",s)"
   ]
  },
  {
   "cell_type": "markdown",
   "id": "16302e62-9ce3-4a69-ba2c-f2ab84421689",
   "metadata": {},
   "source": [
    "### 39. Create a list of the first 10 factorial numbers."
   ]
  },
  {
   "cell_type": "code",
   "execution_count": 20,
   "id": "bdc24d61-8634-4bca-b650-8bbd3fffadba",
   "metadata": {},
   "outputs": [
    {
     "name": "stdout",
     "output_type": "stream",
     "text": [
      "[1, 2, 6, 24, 120, 720, 5040, 40320, 362880, 3628800]\n"
     ]
    }
   ],
   "source": [
    "import math\n",
    "s=[]\n",
    "for i in range(1,11):\n",
    "    s.append(math.factorial(i))\n",
    "print(s)"
   ]
  },
  {
   "cell_type": "markdown",
   "id": "8959d7f5-f2a3-4f23-931d-32ed391c082c",
   "metadata": {},
   "source": [
    "### 40. Check if two lists have at least one element in common."
   ]
  },
  {
   "cell_type": "code",
   "execution_count": 23,
   "id": "fd2178b9-9c2f-42aa-8f95-8202f6e6abb4",
   "metadata": {},
   "outputs": [
    {
     "name": "stdin",
     "output_type": "stream",
     "text": [
      "Enter the number of elements 4\n"
     ]
    },
    {
     "name": "stdout",
     "output_type": "stream",
     "text": [
      "First list\n"
     ]
    },
    {
     "name": "stdin",
     "output_type": "stream",
     "text": [
      " 1\n",
      " 4\n",
      " 2\n",
      " 5\n"
     ]
    },
    {
     "name": "stdout",
     "output_type": "stream",
     "text": [
      "Second list\n"
     ]
    },
    {
     "name": "stdin",
     "output_type": "stream",
     "text": [
      " 2\n",
      " 4\n",
      " 2\n",
      " 7\n"
     ]
    },
    {
     "name": "stdout",
     "output_type": "stream",
     "text": [
      "Common elements of given two strings is  ['2', '4']\n"
     ]
    }
   ],
   "source": [
    "n=int(input(\"Enter the number of elements\"))\n",
    "print(\"First list\")\n",
    "str1=[]\n",
    "for i in range(n):\n",
    "    str1.append(input())\n",
    "print(\"Second list\")\n",
    "str2=[]\n",
    "for i in range(n):\n",
    "    str2.append(input())\n",
    "s=set(str1) & set(str2)\n",
    "if (s==set()):\n",
    "    print(\"Given two string has no common elements\")\n",
    "else:\n",
    "    print(\"Common elements of given two strings is \",list(s))"
   ]
  },
  {
   "cell_type": "markdown",
   "id": "0fd1ba65-6cc4-4454-b5af-4e3d5df89d34",
   "metadata": {},
   "source": [
    "### 41. Remove all elements from a list."
   ]
  },
  {
   "cell_type": "code",
   "execution_count": 24,
   "id": "707c2623-8f75-42e7-9708-74654a7bdd29",
   "metadata": {},
   "outputs": [
    {
     "name": "stdout",
     "output_type": "stream",
     "text": [
      "[]\n"
     ]
    }
   ],
   "source": [
    "my_list = [1, 2, 3, 4, 5, 6, 7, 8, 9, 10]\n",
    "my_list.clear()\n",
    "print(my_list)"
   ]
  },
  {
   "cell_type": "markdown",
   "id": "e60c5d77-012c-4c3e-91d3-6d8a18dd5f6c",
   "metadata": {},
   "source": [
    "### 42. Replace negative numbers in a list with 0."
   ]
  },
  {
   "cell_type": "code",
   "execution_count": 27,
   "id": "5fc38740-62a0-4fca-ba8a-5ee1f8bb5138",
   "metadata": {},
   "outputs": [
    {
     "name": "stdin",
     "output_type": "stream",
     "text": [
      "Enter the number of elements 4\n"
     ]
    },
    {
     "name": "stdout",
     "output_type": "stream",
     "text": [
      "Enter the elements\n"
     ]
    },
    {
     "name": "stdin",
     "output_type": "stream",
     "text": [
      " -1\n",
      " 2\n",
      " 3\n",
      " -9\n"
     ]
    },
    {
     "name": "stdout",
     "output_type": "stream",
     "text": [
      "[0, 2, 3, 0]\n"
     ]
    }
   ],
   "source": [
    "n=int(input(\"Enter the number of elements\"))\n",
    "print(\"Enter the elements\")\n",
    "s=[]\n",
    "for i in range(n):\n",
    "    s.append(int(input()))\n",
    "for j in s:\n",
    "    if (j<0):\n",
    "        a=s.index(j)\n",
    "        s[a]=0\n",
    "print(s)"
   ]
  },
  {
   "cell_type": "markdown",
   "id": "20d0bf61-55ec-4694-ba44-786c6a81d46d",
   "metadata": {},
   "source": [
    "### 43. Convert a string into a list of words."
   ]
  },
  {
   "cell_type": "code",
   "execution_count": 2,
   "id": "cc631c8b-d4ab-4eb4-90cf-46f309c72a2e",
   "metadata": {},
   "outputs": [
    {
     "name": "stdin",
     "output_type": "stream",
     "text": [
      "Enter a string Hello, this is a sample sentence.\n"
     ]
    },
    {
     "data": {
      "text/plain": [
       "['Hello,', 'this', 'is', 'a', 'sample', 'sentence.']"
      ]
     },
     "execution_count": 2,
     "metadata": {},
     "output_type": "execute_result"
    }
   ],
   "source": [
    "s=str(input(\"Enter a string\"))\n",
    "s.split()"
   ]
  },
  {
   "cell_type": "markdown",
   "id": "6dcbc0aa-4c6f-4148-a6a7-06add130923c",
   "metadata": {},
   "source": [
    "### 44. Convert a list of words into a string."
   ]
  },
  {
   "cell_type": "code",
   "execution_count": 5,
   "id": "fd45b6ab-d5d6-4bda-b82f-923ec1209476",
   "metadata": {},
   "outputs": [
    {
     "name": "stdout",
     "output_type": "stream",
     "text": [
      "Hello, this is a sample sentence.\n"
     ]
    }
   ],
   "source": [
    "s= ['Hello,', 'this', 'is', 'a', 'sample', 'sentence.']\n",
    "l=' '.join(s)\n",
    "print(l)"
   ]
  },
  {
   "cell_type": "markdown",
   "id": "cb197700-9e9b-4575-adf7-1553e4b24448",
   "metadata": {},
   "source": [
    "### 45. Create a list of the first `n` powers of 2."
   ]
  },
  {
   "cell_type": "code",
   "execution_count": 2,
   "id": "6093013a-7ff4-4508-9d17-d387ae692061",
   "metadata": {},
   "outputs": [
    {
     "name": "stdin",
     "output_type": "stream",
     "text": [
      "Enter the number 5\n"
     ]
    },
    {
     "name": "stdout",
     "output_type": "stream",
     "text": [
      "[2, 4, 8, 16, 32]\n"
     ]
    }
   ],
   "source": [
    "n=int(input(\"Enter the number\"))\n",
    "l=[]\n",
    "for i in range(1,n+1):\n",
    "    l.append(pow(2,i))\n",
    "print(l)"
   ]
  },
  {
   "cell_type": "markdown",
   "id": "82f7c45f-16df-405c-93fa-197e689bad45",
   "metadata": {},
   "source": [
    "### 46. Find the longest string in a list of strings."
   ]
  },
  {
   "cell_type": "code",
   "execution_count": 11,
   "id": "50597770-d50b-44d7-b9cd-f53d10e08b11",
   "metadata": {},
   "outputs": [
    {
     "name": "stdin",
     "output_type": "stream",
     "text": [
      "Enter the number of elements 4\n"
     ]
    },
    {
     "name": "stdout",
     "output_type": "stream",
     "text": [
      "Enter the elements\n"
     ]
    },
    {
     "name": "stdin",
     "output_type": "stream",
     "text": [
      " yellow\n",
      " red\n",
      " blue\n",
      " white\n"
     ]
    },
    {
     "name": "stdout",
     "output_type": "stream",
     "text": [
      "Longest string in the list is  yellow\n"
     ]
    }
   ],
   "source": [
    "n=int(input(\"Enter the number of elements\"))\n",
    "print(\"Enter the elements\")\n",
    "s=[]\n",
    "for i in range(n):\n",
    "    s.append(input())\n",
    "a=max(s,key=len)\n",
    "print(\"Longest string in the list is \",a)"
   ]
  },
  {
   "cell_type": "markdown",
   "id": "5412d961-7796-4f80-9c62-1355a52ba544",
   "metadata": {},
   "source": [
    "### 47. Find the shortest string in a list of strings."
   ]
  },
  {
   "cell_type": "code",
   "execution_count": 13,
   "id": "a1000ccb-7403-4650-9227-8e55d3f53282",
   "metadata": {},
   "outputs": [
    {
     "name": "stdin",
     "output_type": "stream",
     "text": [
      "Enter the number of elements 4\n"
     ]
    },
    {
     "name": "stdout",
     "output_type": "stream",
     "text": [
      "Enter the elements\n"
     ]
    },
    {
     "name": "stdin",
     "output_type": "stream",
     "text": [
      " yellow\n",
      " red\n",
      " blue\n",
      " white\n"
     ]
    },
    {
     "name": "stdout",
     "output_type": "stream",
     "text": [
      "shortest string in the list is  red\n"
     ]
    }
   ],
   "source": [
    "n=int(input(\"Enter the number of elements\"))\n",
    "print(\"Enter the elements\")\n",
    "s=[]\n",
    "for i in range(n):\n",
    "    s.append(input())\n",
    "a=min(s,key=len)\n",
    "print(\"shortest string in the list is \",a)"
   ]
  },
  {
   "cell_type": "markdown",
   "id": "92fbbb3e-c491-47b2-9416-bd226532fafd",
   "metadata": {},
   "source": [
    "### 48. Create a list of the first `n` triangular numbers"
   ]
  },
  {
   "cell_type": "code",
   "execution_count": 2,
   "id": "e039895b-3769-46fd-986d-1e4cc0680a16",
   "metadata": {},
   "outputs": [
    {
     "name": "stdin",
     "output_type": "stream",
     "text": [
      "Enter the number 5\n"
     ]
    },
    {
     "name": "stdout",
     "output_type": "stream",
     "text": [
      "[1, 3, 6, 10, 15]\n"
     ]
    }
   ],
   "source": [
    "n=int(input(\"Enter the number\"))\n",
    "l=[]\n",
    "for i in range(1,n+1):\n",
    "    a=i*(i+1)/2\n",
    "    l.append(int(a))\n",
    "print(l)"
   ]
  },
  {
   "cell_type": "markdown",
   "id": "d583d059-0e93-4a72-b670-bc8160d3a3e2",
   "metadata": {},
   "source": [
    "### 49. Check if a list contains another list as a subsequence."
   ]
  },
  {
   "cell_type": "code",
   "execution_count": 4,
   "id": "62d2ad2f-bad1-4083-a4df-4a08a0f4a89f",
   "metadata": {},
   "outputs": [
    {
     "name": "stdin",
     "output_type": "stream",
     "text": [
      "Enter the number of elements 5\n"
     ]
    },
    {
     "name": "stdout",
     "output_type": "stream",
     "text": [
      "Enter the elements\n"
     ]
    },
    {
     "name": "stdin",
     "output_type": "stream",
     "text": [
      " 8\n",
      " 3\n",
      " 7\n",
      " 2\n",
      " 9\n"
     ]
    },
    {
     "name": "stdout",
     "output_type": "stream",
     "text": [
      "Enter another subsequence\n"
     ]
    },
    {
     "name": "stdin",
     "output_type": "stream",
     "text": [
      "Enter the number of elements 2\n"
     ]
    },
    {
     "name": "stdout",
     "output_type": "stream",
     "text": [
      "Enter the elements\n"
     ]
    },
    {
     "name": "stdin",
     "output_type": "stream",
     "text": [
      " 2\n",
      " 3\n"
     ]
    },
    {
     "name": "stdout",
     "output_type": "stream",
     "text": [
      "Yes, list is subset of other.\n"
     ]
    }
   ],
   "source": [
    "n=int(input(\"Enter the number of elements\"))\n",
    "print(\"Enter the elements\")\n",
    "s=[]\n",
    "for i in range(n):\n",
    "    s.append(input())\n",
    "print(\"Enter another subsequence\")\n",
    "m=int(input(\"Enter the number of elements\"))\n",
    "print(\"Enter the elements\")\n",
    "s1=[]\n",
    "for i in range(m):\n",
    "    s1.append(input())\n",
    "s1=set(s1)\n",
    "s=set(s)\n",
    "if (s1.issubset(s)):\n",
    "    print(\"Yes, list is subset of other.\")\n",
    "else:\n",
    "    print(\"No, list is not subset of other.\")"
   ]
  },
  {
   "cell_type": "markdown",
   "id": "337cb194-bf2a-4217-8a60-2a916451f7d5",
   "metadata": {},
   "source": [
    "### 50. Swap two elements in a list by their indices."
   ]
  },
  {
   "cell_type": "code",
   "execution_count": 7,
   "id": "723403bb-459a-4082-9944-5f3cb604cfe3",
   "metadata": {},
   "outputs": [
    {
     "name": "stdin",
     "output_type": "stream",
     "text": [
      "Enter the number of elements 5\n"
     ]
    },
    {
     "name": "stdout",
     "output_type": "stream",
     "text": [
      "Enter the elements\n"
     ]
    },
    {
     "name": "stdin",
     "output_type": "stream",
     "text": [
      " 1\n",
      " 2\n",
      " 3\n",
      " 4\n",
      " 5\n"
     ]
    },
    {
     "name": "stdout",
     "output_type": "stream",
     "text": [
      "Enter the two indices of an elements\n"
     ]
    },
    {
     "name": "stdin",
     "output_type": "stream",
     "text": [
      " 2\n",
      " 4\n"
     ]
    },
    {
     "name": "stdout",
     "output_type": "stream",
     "text": [
      "After swap of elements, the given list is ['1', '2', '5', '4', '3']\n"
     ]
    }
   ],
   "source": [
    "n=int(input(\"Enter the number of elements\"))\n",
    "print(\"Enter the elements\")\n",
    "s=[]\n",
    "for i in range(n):\n",
    "    s.append(input())\n",
    "print(\"Enter the two indices of an elements\")\n",
    "m=[]\n",
    "for i in range(2):\n",
    "    m.append(int(input()))\n",
    "s[m[0]],s[m[1]]=s[m[1]],s[m[0]]\n",
    "print(\"After swap of elements, the given list is\",s)"
   ]
  },
  {
   "cell_type": "markdown",
   "id": "d66c9d52-2224-4dc3-9f9f-5fffcb467fe6",
   "metadata": {},
   "source": [
    "### Tuple Based Practice Problem :\n",
    "---"
   ]
  },
  {
   "cell_type": "markdown",
   "id": "45185cf0-6bbf-4a3e-a583-a4453a62695e",
   "metadata": {},
   "source": [
    "### 1. Create a tuple with integers from 1 to 5."
   ]
  },
  {
   "cell_type": "code",
   "execution_count": 8,
   "id": "72d60627-b580-4d78-ba4c-468a1c4d679b",
   "metadata": {},
   "outputs": [
    {
     "data": {
      "text/plain": [
       "(1, 2, 3, 4, 5)"
      ]
     },
     "execution_count": 8,
     "metadata": {},
     "output_type": "execute_result"
    }
   ],
   "source": [
    "tuple(range(1,6))"
   ]
  },
  {
   "cell_type": "markdown",
   "id": "30a301c1-be85-49f0-b1b1-05fa15c68e22",
   "metadata": {},
   "source": [
    "### 2. Access the third element of a tuple."
   ]
  },
  {
   "cell_type": "code",
   "execution_count": 2,
   "id": "349700c2-9354-4ea4-bc83-9f166521dade",
   "metadata": {},
   "outputs": [
    {
     "name": "stdout",
     "output_type": "stream",
     "text": [
      "The given tuple is (1, 2, 3, 4, 5, 6, 7, 8, 9, 10)\n",
      "The third element of tuple is 3\n"
     ]
    }
   ],
   "source": [
    "s=tuple(range(1,11))\n",
    "print(\"The given tuple is\",s)\n",
    "print(\"The third element of tuple is\",s[2])"
   ]
  },
  {
   "cell_type": "markdown",
   "id": "43a65bf5-1aa8-4a2a-8e31-54edb83ec398",
   "metadata": {},
   "source": [
    "### 3. Find the length of a tuple without using the `len()` function."
   ]
  },
  {
   "cell_type": "code",
   "execution_count": 4,
   "id": "e4a7208e-b772-4d11-9c6b-fd0bdffb90f5",
   "metadata": {},
   "outputs": [
    {
     "name": "stdout",
     "output_type": "stream",
     "text": [
      "Given tuple is (32, 45, 11, 96, 49, 27, 59, 60, 38, 69, 26, 69, 24, 82, 64)\n",
      "The lenght of the given tuple is 15\n"
     ]
    }
   ],
   "source": [
    "a=(32,45,11,96,49,27,59,60,38,69,26,69,24,82,64)\n",
    "print(\"Given tuple is\",a)\n",
    "ans=0\n",
    "for i in a:\n",
    "    ans+=1\n",
    "print(\"The lenght of the given tuple is\",ans)"
   ]
  },
  {
   "cell_type": "markdown",
   "id": "af52621b-3e97-4fe7-bf7c-e842729658dc",
   "metadata": {},
   "source": [
    "### 4. Count the occurrences of an element in a tuple."
   ]
  },
  {
   "cell_type": "code",
   "execution_count": 6,
   "id": "dc926d26-85d5-4b84-8af1-ac1fc93ca3d9",
   "metadata": {},
   "outputs": [
    {
     "name": "stdin",
     "output_type": "stream",
     "text": [
      "Enter the tuple  red blue yellow white red white \n"
     ]
    },
    {
     "name": "stdout",
     "output_type": "stream",
     "text": [
      "('red', 'blue', 'yellow', 'white', 'red', 'white')\n",
      "Count of red is  2\n",
      "Count of blue is  1\n",
      "Count of yellow is  1\n",
      "Count of white is  2\n",
      "Count of red is  2\n",
      "Count of white is  2\n"
     ]
    }
   ],
   "source": [
    "s = tuple(input('Enter the tuple ').split())\n",
    "print(s)\n",
    "for j in s:\n",
    "    print(\"Count of {} is \".format(j),s.count(j))"
   ]
  },
  {
   "cell_type": "markdown",
   "id": "fb1c54d1-7291-45f9-83f3-097b3f01682b",
   "metadata": {},
   "source": [
    "### 5. Find the index of the first occurrence of an element in a tuple."
   ]
  },
  {
   "cell_type": "code",
   "execution_count": 1,
   "id": "00e9fcd2-6812-443e-9b06-7761b0913db7",
   "metadata": {},
   "outputs": [
    {
     "name": "stdout",
     "output_type": "stream",
     "text": [
      "The tuple is (1, 2, 3, 4, 5, 6, 7)\n",
      "The first occurrence of 4 is at index 3.\n"
     ]
    }
   ],
   "source": [
    "s = (1,2,3,4,5,6,7)\n",
    "print(\"The tuple is\",s)\n",
    "element_to_find=4\n",
    "print(f\"The first occurrence of {element_to_find} is at index {s.index(element_to_find)}.\")"
   ]
  },
  {
   "cell_type": "markdown",
   "id": "76f2d1bf-a450-43a3-a5d6-5fc56f61f5a3",
   "metadata": {},
   "source": [
    "### 6. Check if an element exists in a tuple."
   ]
  },
  {
   "cell_type": "code",
   "execution_count": 6,
   "id": "dde9e1e3-6a1b-46e3-8933-5c4de00e97eb",
   "metadata": {},
   "outputs": [
    {
     "name": "stdin",
     "output_type": "stream",
     "text": [
      "Enter the tuple  21 47 49 61 10 28 35\n"
     ]
    },
    {
     "name": "stdout",
     "output_type": "stream",
     "text": [
      "The tuple is ('21', '47', '49', '61', '10', '28', '35')\n"
     ]
    },
    {
     "name": "stdin",
     "output_type": "stream",
     "text": [
      "Enter the element 20\n"
     ]
    },
    {
     "name": "stdout",
     "output_type": "stream",
     "text": [
      "20 is not exists in the tuple\n"
     ]
    }
   ],
   "source": [
    "s = tuple(input('Enter the tuple ').split())\n",
    "print(\"The tuple is\",s)\n",
    "a=input(\"Enter the element\")\n",
    "if a in s:\n",
    "    print(\"{} is exists in the tuple\".format(a))\n",
    "else:\n",
    "    print(\"{} is not exists in the tuple\".format(a))"
   ]
  },
  {
   "cell_type": "markdown",
   "id": "a10fd980-1fcf-4d68-94f4-ab50a77baae5",
   "metadata": {},
   "source": [
    "### 7. Convert a tuple to a list."
   ]
  },
  {
   "cell_type": "code",
   "execution_count": 17,
   "id": "b2a090e2-adc8-4c9d-ab72-880e9e022f2b",
   "metadata": {},
   "outputs": [
    {
     "name": "stdout",
     "output_type": "stream",
     "text": [
      "['The', 'planets', 'revolve', 'around', 'the', 'Sun.']\n"
     ]
    }
   ],
   "source": [
    "s=(\"The\",'planets','revolve','around','the','Sun.')\n",
    "print(list(s))"
   ]
  },
  {
   "cell_type": "markdown",
   "id": "49704291-b19d-48b3-99a4-d00495925310",
   "metadata": {},
   "source": [
    "### 8. Convert a list to a tuple."
   ]
  },
  {
   "cell_type": "code",
   "execution_count": 18,
   "id": "27ceb80e-15b6-4095-8e47-ee62d3a87dcf",
   "metadata": {},
   "outputs": [
    {
     "name": "stdout",
     "output_type": "stream",
     "text": [
      "('The', 'planets', 'revolve', 'around', 'the', 'Sun.')\n"
     ]
    }
   ],
   "source": [
    "s=['The', 'planets', 'revolve', 'around', 'the', 'Sun.']\n",
    "print(tuple(s))"
   ]
  },
  {
   "cell_type": "markdown",
   "id": "93b96ee7-0105-4454-ad47-be4810e8bd4e",
   "metadata": {},
   "source": [
    "### 9. Unpack the elements of a tuple into variables.\n"
   ]
  },
  {
   "cell_type": "code",
   "execution_count": 20,
   "id": "e5591ee3-a22d-458b-93c8-2d8f459b2fee",
   "metadata": {},
   "outputs": [
    {
     "name": "stdout",
     "output_type": "stream",
     "text": [
      "The college name: MNNIT Allahabad\n",
      "Number of students: 5000\n"
     ]
    }
   ],
   "source": [
    "a = (\"MNNIT Allahabad\", 5000, \"Engineering\") \n",
    "(college, student, type_ofcollege) = a \n",
    " \n",
    "print(\"The college name:\",college)\n",
    "print(\"Number of students:\",student)"
   ]
  },
  {
   "cell_type": "markdown",
   "id": "b9f09832-dc3f-49b3-aa3b-52b4e8e95a90",
   "metadata": {},
   "source": [
    "### 10. Create a tuple of even numbers from 1 to 10."
   ]
  },
  {
   "cell_type": "code",
   "execution_count": 21,
   "id": "4f6aa812-ee17-4c62-8d33-d51bac98dab5",
   "metadata": {},
   "outputs": [
    {
     "data": {
      "text/plain": [
       "(1, 2, 3, 4, 5, 6, 7, 8, 9, 10)"
      ]
     },
     "execution_count": 21,
     "metadata": {},
     "output_type": "execute_result"
    }
   ],
   "source": [
    "tuple(range(1,11))"
   ]
  },
  {
   "cell_type": "markdown",
   "id": "694f3def-c98b-4bdc-b60d-5164fd1c50be",
   "metadata": {},
   "source": [
    "### 11. Create a tuple of odd numbers from 1 to 10."
   ]
  },
  {
   "cell_type": "code",
   "execution_count": 22,
   "id": "4c573e29-3008-43a6-891c-d7ac50ee9fa8",
   "metadata": {},
   "outputs": [
    {
     "data": {
      "text/plain": [
       "(1, 3, 5, 7, 9)"
      ]
     },
     "execution_count": 22,
     "metadata": {},
     "output_type": "execute_result"
    }
   ],
   "source": [
    "tuple(range(1,11,2))"
   ]
  },
  {
   "cell_type": "markdown",
   "id": "680adbfb-a088-4bbc-ba5d-6050ba96f87f",
   "metadata": {},
   "source": [
    "### 12. Concatenate two tuples."
   ]
  },
  {
   "cell_type": "code",
   "execution_count": 1,
   "id": "0f97e39c-6cff-456e-b549-b7016181d63f",
   "metadata": {},
   "outputs": [
    {
     "name": "stdout",
     "output_type": "stream",
     "text": [
      "(1, 2, 3, 4, 5, 6, 7, 8, 9, 10)\n"
     ]
    }
   ],
   "source": [
    "a=(1,2,3,4)\n",
    "b=(5,6,7,8,9,10)\n",
    "print(a+b)"
   ]
  },
  {
   "cell_type": "markdown",
   "id": "fa8af3df-12a2-4ab9-b61c-6672bdc03983",
   "metadata": {},
   "source": [
    "### 13. Repeat a tuple three times."
   ]
  },
  {
   "cell_type": "code",
   "execution_count": 1,
   "id": "e2b24d93-2ff6-4538-a919-00b10ad1c7bb",
   "metadata": {},
   "outputs": [
    {
     "name": "stdout",
     "output_type": "stream",
     "text": [
      "(1, 2, 3, 4, 5, 1, 2, 3, 4, 5, 1, 2, 3, 4, 5)\n"
     ]
    }
   ],
   "source": [
    "a=(1,2,3,4,5)\n",
    "print(a*3)"
   ]
  },
  {
   "cell_type": "markdown",
   "id": "2719585d-df45-49ea-bdcf-c3ef9d1665a7",
   "metadata": {},
   "source": [
    "### 14. Check if a tuple is empty."
   ]
  },
  {
   "cell_type": "code",
   "execution_count": 12,
   "id": "9d54a092-5937-4f59-a2ee-dc67ead92dad",
   "metadata": {},
   "outputs": [
    {
     "name": "stdin",
     "output_type": "stream",
     "text": [
      "Enter the elements of tuple  \n"
     ]
    },
    {
     "name": "stdout",
     "output_type": "stream",
     "text": [
      "Given tuple is empty\n"
     ]
    }
   ],
   "source": [
    "s=tuple(input(\"Enter the elements of tuple\").split())\n",
    "if (len(s)==0):\n",
    "    print(\"Given tuple is empty\")\n",
    "else:\n",
    "    print(\"Given tuple is not empty\")"
   ]
  },
  {
   "cell_type": "markdown",
   "id": "0211e483-ce97-46a5-9e16-558a3fd9bcb6",
   "metadata": {},
   "source": [
    "### 15.  Create a nested tuple."
   ]
  },
  {
   "cell_type": "code",
   "execution_count": 21,
   "id": "537d2266-ec47-41cc-8c2d-6a1de64e62be",
   "metadata": {},
   "outputs": [
    {
     "name": "stdout",
     "output_type": "stream",
     "text": [
      "The original tuple 1 : ((1, 2, 3),)\n",
      "The original tuple 2 : ((4, 5, 6),)\n",
      "Tuples after Concatenating : ((1, 2, 3), (4, 5, 6))\n"
     ]
    }
   ],
   "source": [
    "test_tup1 = (1,2,3),\n",
    "test_tup2 = (4,5,6),\n",
    "print(\"The original tuple 1 : \" + str(test_tup1))\n",
    "print(\"The original tuple 2 : \" + str(test_tup2))\n",
    "test_tup1 = list(test_tup1)\n",
    "test_tup2 = list(test_tup2)\n",
    "test_tup1.extend(test_tup2)\n",
    "print(\"Tuples after Concatenating : \" + str(tuple(test_tup1)))"
   ]
  },
  {
   "cell_type": "markdown",
   "id": "e363f090-8d37-4883-8caa-3b193f123bb0",
   "metadata": {},
   "source": [
    "### 16. Access the first element of a nested tuple."
   ]
  },
  {
   "cell_type": "code",
   "execution_count": 2,
   "id": "29cf20a8-628f-433b-86f5-c4e107a642e5",
   "metadata": {},
   "outputs": [
    {
     "name": "stdout",
     "output_type": "stream",
     "text": [
      "Nested tuple is: ((1, 2, 3), (4, 5, 6))\n",
      "First element of nested tuple is: (1, 2, 3)\n"
     ]
    }
   ],
   "source": [
    "s=((1, 2, 3), (4, 5, 6))\n",
    "print(\"Nested tuple is:\",s)\n",
    "print(\"First element of nested tuple is:\",s[0])"
   ]
  },
  {
   "cell_type": "markdown",
   "id": "2e46e565-b70e-466f-8c26-a10a41c780f3",
   "metadata": {},
   "source": [
    "### 17. Create a tuple with a single element."
   ]
  },
  {
   "cell_type": "code",
   "execution_count": 3,
   "id": "faa2fbf5-4395-48d2-8503-fc5c333c9203",
   "metadata": {},
   "outputs": [
    {
     "name": "stdout",
     "output_type": "stream",
     "text": [
      "Single element tuple: (42,)\n"
     ]
    }
   ],
   "source": [
    "single_element_tuple = (42,) \n",
    "print(\"Single element tuple:\", single_element_tuple)"
   ]
  },
  {
   "cell_type": "markdown",
   "id": "2e76047c-e4b1-4ed4-b88a-8d6f86fb04c3",
   "metadata": {},
   "source": [
    "## 18. Compare two tuples."
   ]
  },
  {
   "cell_type": "code",
   "execution_count": 4,
   "id": "a461e1fc-c6b5-4ac9-a820-fb517f8311ee",
   "metadata": {},
   "outputs": [
    {
     "name": "stdout",
     "output_type": "stream",
     "text": [
      "tuple1 == tuple2: False\n",
      "tuple1 != tuple2: True\n",
      "tuple1 < tuple2: True\n",
      "tuple1 <= tuple2: True\n",
      "tuple1 > tuple2: False\n",
      "tuple1 >= tuple2: False\n"
     ]
    }
   ],
   "source": [
    "tuple1 = (1, 2, 3)\n",
    "tuple2 = (1, 2, 4)\n",
    "\n",
    "print(\"tuple1 == tuple2:\", tuple1 == tuple2)  # Equality check\n",
    "print(\"tuple1 != tuple2:\", tuple1 != tuple2)  # Inequality check\n",
    "print(\"tuple1 < tuple2:\", tuple1 < tuple2)    # Less than check\n",
    "print(\"tuple1 <= tuple2:\", tuple1 <= tuple2)  # Less than or equal to check\n",
    "print(\"tuple1 > tuple2:\", tuple1 > tuple2)    # Greater than check\n",
    "print(\"tuple1 >= tuple2:\", tuple1 >= tuple2)  # Greater than or equal to check"
   ]
  },
  {
   "cell_type": "markdown",
   "id": "f1142fc8-62a9-4054-93fa-a0470774831a",
   "metadata": {},
   "source": [
    "### 19. Delete a tuple."
   ]
  },
  {
   "cell_type": "code",
   "execution_count": 34,
   "id": "ec1bf6d7-fd75-4834-81b6-12b139a3e577",
   "metadata": {},
   "outputs": [
    {
     "name": "stdout",
     "output_type": "stream",
     "text": [
      "The original tuple is:(1, 2, 3, 4)\n",
      "After deleting tuple\n"
     ]
    },
    {
     "ename": "NameError",
     "evalue": "name 'a' is not defined",
     "output_type": "error",
     "traceback": [
      "\u001b[0;31m---------------------------------------------------------------------------\u001b[0m",
      "\u001b[0;31mNameError\u001b[0m                                 Traceback (most recent call last)",
      "Cell \u001b[0;32mIn[34], line 6\u001b[0m\n\u001b[1;32m      4\u001b[0m \u001b[38;5;28;01mdel\u001b[39;00m(a)\n\u001b[1;32m      5\u001b[0m \u001b[38;5;28mprint\u001b[39m(\u001b[38;5;124m\"\u001b[39m\u001b[38;5;124mAfter deleting tuple\u001b[39m\u001b[38;5;124m\"\u001b[39m)\n\u001b[0;32m----> 6\u001b[0m \u001b[38;5;28mprint\u001b[39m(\u001b[43ma\u001b[49m)\n",
      "\u001b[0;31mNameError\u001b[0m: name 'a' is not defined"
     ]
    }
   ],
   "source": [
    "a=(1,2,3,4)\n",
    "print(\"The original tuple is:\"+ str(a))\n",
    "del(a)\n",
    "print(\"After deleting tuple\")\n",
    "print(a)"
   ]
  },
  {
   "cell_type": "markdown",
   "id": "81910b67-2a83-454a-b6f2-fa5724ed38a9",
   "metadata": {},
   "source": [
    "### 20. Slice a tuple."
   ]
  },
  {
   "cell_type": "code",
   "execution_count": 1,
   "id": "0f6716ab-c3b9-4667-b5b5-7cbc2a30afe2",
   "metadata": {},
   "outputs": [
    {
     "name": "stdout",
     "output_type": "stream",
     "text": [
      "(5, 6)\n"
     ]
    }
   ],
   "source": [
    "s=(1,2,3,4,5,6)\n",
    "print(s[4:])"
   ]
  },
  {
   "cell_type": "markdown",
   "id": "6189b7a5-1a08-48b0-8c8e-df175ba4d725",
   "metadata": {},
   "source": [
    "### 21. Find the maximum value in a tuple."
   ]
  },
  {
   "cell_type": "code",
   "execution_count": 2,
   "id": "907910b4-3fc7-47b6-806c-abc4ead97fb3",
   "metadata": {},
   "outputs": [
    {
     "name": "stdin",
     "output_type": "stream",
     "text": [
      "Enter the elements of tuple 23 12 57 92 74 20 46 68 24\n"
     ]
    },
    {
     "name": "stdout",
     "output_type": "stream",
     "text": [
      "Given tuple is('23', '12', '57', '92', '74', '20', '46', '68', '24')\n",
      "The maximum value of given tuple is 92\n"
     ]
    }
   ],
   "source": [
    "t=tuple(input(\"Enter the elements of tuple\").split())\n",
    "print(\"Given tuple is\"+str(t))\n",
    "print(\"The maximum value of given tuple is\",max(t))"
   ]
  },
  {
   "cell_type": "markdown",
   "id": "201f9690-c65a-4ed2-9e92-a9a972c6a3fd",
   "metadata": {},
   "source": [
    "### 22. Find the minimum value in a tuple."
   ]
  },
  {
   "cell_type": "code",
   "execution_count": 3,
   "id": "621e5871-8d05-44de-8467-5ebb8c99f0b8",
   "metadata": {},
   "outputs": [
    {
     "name": "stdin",
     "output_type": "stream",
     "text": [
      "Enter the elements of tuple 46 29 81 52 58 90 15 \n"
     ]
    },
    {
     "name": "stdout",
     "output_type": "stream",
     "text": [
      "Given tuple is('46', '29', '81', '52', '58', '90', '15')\n",
      "The minimum value of given tuple is 15\n"
     ]
    }
   ],
   "source": [
    "t=tuple(input(\"Enter the elements of tuple\").split())\n",
    "print(\"Given tuple is\"+str(t))\n",
    "print(\"The minimum value of given tuple is\",min(t))"
   ]
  },
  {
   "cell_type": "markdown",
   "id": "96e2bbbc-29ec-4b39-af0a-c2bb5be3d93d",
   "metadata": {},
   "source": [
    "### 23. Convert a string to a tuple of characters."
   ]
  },
  {
   "cell_type": "code",
   "execution_count": 5,
   "id": "3ef2913b-4173-4390-bd54-85fe754ab0de",
   "metadata": {},
   "outputs": [
    {
     "name": "stdin",
     "output_type": "stream",
     "text": [
      "Enter a string Hello, World!\n"
     ]
    },
    {
     "name": "stdout",
     "output_type": "stream",
     "text": [
      "('H', 'e', 'l', 'l', 'o', ',', ' ', 'W', 'o', 'r', 'l', 'd', '!')\n"
     ]
    }
   ],
   "source": [
    "s=str(input(\"Enter a string\"))\n",
    "print(tuple(s))"
   ]
  },
  {
   "cell_type": "markdown",
   "id": "c7e5b231-90de-4140-bc12-a9c558915a6c",
   "metadata": {},
   "source": [
    "### 24. Convert a tuple of characters to a string."
   ]
  },
  {
   "cell_type": "code",
   "execution_count": 7,
   "id": "a24ba426-0f76-4196-bf89-8aeba9ab11de",
   "metadata": {},
   "outputs": [
    {
     "name": "stdout",
     "output_type": "stream",
     "text": [
      "hello"
     ]
    }
   ],
   "source": [
    "s=('h', 'e', 'l', 'l', 'o')\n",
    "for i in s:\n",
    "    print(i,end=\"\")"
   ]
  },
  {
   "cell_type": "markdown",
   "id": "f32b4447-2997-47ba-8423-efaf6954d671",
   "metadata": {},
   "source": [
    "### 25. Create a tuple from multiple data types."
   ]
  },
  {
   "cell_type": "code",
   "execution_count": 10,
   "id": "d750977b-2562-4efd-a522-8c6162072d16",
   "metadata": {},
   "outputs": [
    {
     "name": "stdout",
     "output_type": "stream",
     "text": [
      "('hello', 123, True, [2, 3], 100.82)\n"
     ]
    }
   ],
   "source": [
    "s=(\"hello\",123,True,[2,3],100.82)\n",
    "print(s)"
   ]
  },
  {
   "cell_type": "markdown",
   "id": "a2f174e4-1e11-4588-b814-a19150987f6f",
   "metadata": {},
   "source": [
    "### 26. Check if two tuples are identical."
   ]
  },
  {
   "cell_type": "code",
   "execution_count": 11,
   "id": "e620c9fd-e047-4488-8be4-1eb1b72c48f9",
   "metadata": {},
   "outputs": [
    {
     "name": "stdout",
     "output_type": "stream",
     "text": [
      "Enter the first tuple\n"
     ]
    },
    {
     "name": "stdin",
     "output_type": "stream",
     "text": [
      "Enter the elements of tuple 1 2 3\n"
     ]
    },
    {
     "name": "stdout",
     "output_type": "stream",
     "text": [
      "Enter the second tuple\n"
     ]
    },
    {
     "name": "stdin",
     "output_type": "stream",
     "text": [
      "Enter the elements of tuple 4 5 6\n"
     ]
    },
    {
     "name": "stdout",
     "output_type": "stream",
     "text": [
      "First tuple('1', '2', '3')\n",
      "Second tuple('4', '5', '6')\n",
      "Given two tuples are not same.\n"
     ]
    }
   ],
   "source": [
    "print(\"Enter the first tuple\")\n",
    "t1=tuple(input(\"Enter the elements of tuple\").split())\n",
    "print(\"Enter the second tuple\")\n",
    "t2=tuple(input(\"Enter the elements of tuple\").split())\n",
    "print(\"First tuple\"+str(t1))\n",
    "print(\"Second tuple\"+str(t2))\n",
    "if (t1==t2):\n",
    "    print(\"Given two tuples are same.\")\n",
    "else:\n",
    "    print(\"Given two tuples are not same.\")    "
   ]
  },
  {
   "cell_type": "markdown",
   "id": "5bf808c9-308b-4f7c-a828-3a63599b261b",
   "metadata": {},
   "source": [
    "### 27. Sort the elements of a tuple."
   ]
  },
  {
   "cell_type": "code",
   "execution_count": 20,
   "id": "ba1f09a9-0eda-4a3b-8536-047ae94b840a",
   "metadata": {},
   "outputs": [
    {
     "name": "stdin",
     "output_type": "stream",
     "text": [
      "Enter the elements of tuple 36 19 19 38 38 45 10 46\n"
     ]
    },
    {
     "name": "stdout",
     "output_type": "stream",
     "text": [
      "('10', '19', '19', '36', '38', '38', '45', '46')\n"
     ]
    }
   ],
   "source": [
    "t=tuple(input(\"Enter the elements of tuple\").split())\n",
    "a=list(t)\n",
    "a.sort()\n",
    "print(tuple(a))"
   ]
  },
  {
   "cell_type": "markdown",
   "id": "2ea92286-6d87-437c-89d4-793bee978d9b",
   "metadata": {},
   "source": [
    "### 28. Convert a tuple of integers to a tuple of strings."
   ]
  },
  {
   "cell_type": "code",
   "execution_count": 11,
   "id": "370114a5-bc0c-4f65-acf1-a69656d91cc2",
   "metadata": {},
   "outputs": [
    {
     "name": "stdout",
     "output_type": "stream",
     "text": [
      "Original tuple: (1, 2, 3, 4, 5)\n",
      "Tuple of integer: ('1', '2', '3', '4', '5')\n"
     ]
    }
   ],
   "source": [
    "t=(1,2,3,4,5)\n",
    "my_tuple=tuple(str(item) for item in t)\n",
    "print(\"Original tuple:\",t)\n",
    "print(\"Tuple of integer:\",my_tuple)"
   ]
  },
  {
   "cell_type": "markdown",
   "id": "210a9a8b-73ae-4799-a66d-6d91151c4ec6",
   "metadata": {},
   "source": [
    "### 29. Convert a tuple of strings to a tuple of integers."
   ]
  },
  {
   "cell_type": "code",
   "execution_count": 11,
   "id": "c03e7ca4-47fd-4f3e-807d-2cb95aaf1124",
   "metadata": {},
   "outputs": [
    {
     "name": "stdout",
     "output_type": "stream",
     "text": [
      "(1, 2, 3)\n"
     ]
    }
   ],
   "source": [
    "t=('1','2','3')\n",
    "my_tuple=tuple(int(item) for item in t)\n",
    "print(my_tuple)"
   ]
  },
  {
   "cell_type": "markdown",
   "id": "bba5258b-ceae-4b88-8062-3563fb2f6027",
   "metadata": {},
   "source": [
    "### 30. Merge two tuples."
   ]
  },
  {
   "cell_type": "code",
   "execution_count": 1,
   "id": "22637742-4cda-4eda-9c1b-4fb2ff19416e",
   "metadata": {},
   "outputs": [
    {
     "name": "stdout",
     "output_type": "stream",
     "text": [
      "After Merging of two tuples(1, 2, 3, 'a', 'b', 'c')\n"
     ]
    }
   ],
   "source": [
    "tup1=(1,2,3)\n",
    "tup2=('a','b','c')\n",
    "print(\"After Merging of two tuples\"+str(tup1+tup2))"
   ]
  },
  {
   "cell_type": "markdown",
   "id": "1da1d381-fd2b-4e14-861f-6f0cad72ccf4",
   "metadata": {},
   "source": [
    "### 31. Flatten a nested tuple."
   ]
  },
  {
   "cell_type": "code",
   "execution_count": 18,
   "id": "a2231eca-a067-4038-9267-7f2aec5f2f46",
   "metadata": {},
   "outputs": [
    {
     "name": "stdout",
     "output_type": "stream",
     "text": [
      "(1, 2, 3, 4, 5, 6, 7, 8)\n"
     ]
    }
   ],
   "source": [
    "nested_tuple = ((1, 2), (3, 4, 5), (6, (7, 8)))\n",
    "def flatten_tuple(nested_tuple):\n",
    "    lst=[]\n",
    "    for i in nested_tuple:\n",
    "        if isinstance(i,tuple):\n",
    "            lst.extend(flatten_tuple(i))\n",
    "        else:\n",
    "            lst.append(i)\n",
    "    return lst\n",
    "print(tuple(flatten_tuple(nested_tuple)))"
   ]
  },
  {
   "cell_type": "markdown",
   "id": "7930e4d6-5806-489c-95e6-8775d05afaa1",
   "metadata": {},
   "source": [
    "### 32. Create a tuple of the first 5 prime numbers."
   ]
  },
  {
   "cell_type": "code",
   "execution_count": 6,
   "id": "13d2081d-4fcb-43f3-b1ef-13b3e9f985c5",
   "metadata": {},
   "outputs": [
    {
     "name": "stdout",
     "output_type": "stream",
     "text": [
      "Tuple of first 5 prime numbers: (2, 3, 5, 7, 11)\n"
     ]
    }
   ],
   "source": [
    "#Check prime number\n",
    "def is_prime(num):\n",
    "    for i in range(2,num):\n",
    "        if (num%i==0):\n",
    "            return False\n",
    "    return True\n",
    "# Generate first 5 prime numbers\n",
    "prime_number_list=[num for num in range(2,50) if is_prime(num)][:5]\n",
    "\n",
    "#cconvert a list into tuple\n",
    "prime_number_tuple=tuple(prime_number_list)\n",
    "\n",
    "#cprint first 5 prime numbers\n",
    "print(\"Tuple of first 5 prime numbers:\",prime_number_tuple)\n",
    "            "
   ]
  },
  {
   "cell_type": "markdown",
   "id": "f3b498ed-a2b6-4a42-b22f-86e73aaf02e9",
   "metadata": {},
   "source": [
    "### 33.Check if a tuple is a palindrome."
   ]
  },
  {
   "cell_type": "code",
   "execution_count": 8,
   "id": "c144c164-ad72-40c9-acf6-5c7540b730a5",
   "metadata": {},
   "outputs": [
    {
     "name": "stdin",
     "output_type": "stream",
     "text": [
      "Enter the elements of tuple 1 2 3 2 1\n"
     ]
    },
    {
     "name": "stdout",
     "output_type": "stream",
     "text": [
      "The tuple is palindrome.\n"
     ]
    }
   ],
   "source": [
    "# Enter the tuple\n",
    "a=input(\"Enter the elements of tuple\").split()\n",
    "\n",
    "# check whether the given tuple is palindrome or not\n",
    "if (a==a[::-1]):\n",
    "    print(\"The tuple is palindrome.\")\n",
    "else:\n",
    "    print(\"The tuple is non-palindrome.\")"
   ]
  },
  {
   "cell_type": "markdown",
   "id": "4e6bae0d-9c57-4082-b99a-304fae952120",
   "metadata": {},
   "source": [
    "### 34.Create a tuple of squares of numbers from 1 to 5."
   ]
  },
  {
   "cell_type": "code",
   "execution_count": 11,
   "id": "cd6c16ce-c9d3-4e39-b14b-64a6e11c579a",
   "metadata": {},
   "outputs": [
    {
     "name": "stdout",
     "output_type": "stream",
     "text": [
      "Tuple of squares of numbers from 1 to 5: (1, 4, 9, 16, 25)\n"
     ]
    }
   ],
   "source": [
    "# Create a tuple of squares of 1 to 5 numbers.\n",
    "square_tuple=tuple(i**2 for i in range(1,6))\n",
    "\n",
    "# print the tuple of squares.\n",
    "print(\"Tuple of squares of numbers from 1 to 5:\",square_tuple)"
   ]
  },
  {
   "cell_type": "markdown",
   "id": "0912330d-37be-408a-b6d2-93dc9f6ba01e",
   "metadata": {},
   "source": [
    "### 35. Filter out all even numbers from a tuple."
   ]
  },
  {
   "cell_type": "code",
   "execution_count": 4,
   "id": "9fbe94da-473e-418e-89d5-443b641a91c4",
   "metadata": {},
   "outputs": [
    {
     "name": "stdout",
     "output_type": "stream",
     "text": [
      "(1, 3, 5, 7, 9)\n"
     ]
    }
   ],
   "source": [
    "# Create a tuple\n",
    "tup=(1,2,3,4,5,6,7,8,9)\n",
    "\n",
    "# filter all even numbers from tuple\n",
    "tup_list=tuple(num for num in tup if num%2!=0)\n",
    "print(tuple(tup_list))"
   ]
  },
  {
   "cell_type": "markdown",
   "id": "ac524885-a094-4722-8777-4f44c3774377",
   "metadata": {},
   "source": [
    "### 36.Multiply all elements in a tuple by 2."
   ]
  },
  {
   "cell_type": "code",
   "execution_count": 8,
   "id": "768b6d6a-c604-42bc-8b06-5a537f1b4dad",
   "metadata": {},
   "outputs": [
    {
     "name": "stdout",
     "output_type": "stream",
     "text": [
      "Doubled tuple: (1, 4, 9, 16, 25, 36, 49, 64, 81)\n"
     ]
    }
   ],
   "source": [
    "# Create a tuple\n",
    "tup=(1,2,3,4,5,6,7,8,9)\n",
    "\n",
    "# Multiply all numbers by 2\n",
    "tup_list=tuple(i**2 for i in tup)\n",
    "\n",
    "# print the doubled tuple\n",
    "print(\"Doubled tuple:\",tup_list)"
   ]
  },
  {
   "cell_type": "markdown",
   "id": "f8d509e8-ab45-4142-9ffc-8f8b488cce19",
   "metadata": {},
   "source": [
    "### 37.Create a tuple of random numbers."
   ]
  },
  {
   "cell_type": "code",
   "execution_count": 10,
   "id": "89740d91-8ef4-428d-b485-59c93d316ce5",
   "metadata": {},
   "outputs": [
    {
     "name": "stdout",
     "output_type": "stream",
     "text": [
      "Random tuple: (277, 251, 212, 362, 216, 110, 462, 422, 246, 346)\n"
     ]
    }
   ],
   "source": [
    "# import ramndom library\n",
    "import random\n",
    "random_tuple=tuple(random.randint(1,500) for i in range(10))\n",
    "\n",
    "# print random tuple\n",
    "print(\"Random tuple:\",random_tuple)"
   ]
  },
  {
   "cell_type": "markdown",
   "id": "083c9d99-dbfc-4437-86d6-8980352e1902",
   "metadata": {},
   "source": [
    "### 38.Check if a tuple is sorted."
   ]
  },
  {
   "cell_type": "code",
   "execution_count": 30,
   "id": "a84150e0-7452-484b-a47e-5e529c1bb822",
   "metadata": {},
   "outputs": [
    {
     "name": "stdin",
     "output_type": "stream",
     "text": [
      "Enter the elements of tuple 1 2 3 2\n"
     ]
    },
    {
     "name": "stdout",
     "output_type": "stream",
     "text": [
      "Original tuple: ('1', '2', '3', '2')\n",
      "Given tuple is not sorted.\n"
     ]
    }
   ],
   "source": [
    "# input tuple\n",
    "a=input(\"Enter the elements of tuple\").split()\n",
    "print(\"Original tuple:\",tuple(a))\n",
    "\n",
    "# sort the given tuple\n",
    "def is_sorted(a):\n",
    "    for i in range(len(a)-1):\n",
    "        if (a[i]>a[i+1]):\n",
    "            return False\n",
    "    return True\n",
    "is_sorted1=is_sorted(a)\n",
    "# Check whether the tuple is sorted or not.\n",
    "if (is_sorted1):\n",
    "    print(\"Given tuple is sorted.\")\n",
    "else:\n",
    "    print(\"Given tuple is not sorted.\")"
   ]
  },
  {
   "cell_type": "markdown",
   "id": "e636a6ba-7c65-4a59-9d2e-dcd65cb6596a",
   "metadata": {},
   "source": [
    "### 39. Rotate a tuple to the left by n positions."
   ]
  },
  {
   "cell_type": "code",
   "execution_count": 31,
   "id": "1ca1f8ff-ac22-4872-b937-4f63b0e1c490",
   "metadata": {},
   "outputs": [
    {
     "name": "stdin",
     "output_type": "stream",
     "text": [
      "Enter the elements of tuple 1 2 3 4 5\n",
      "Enter the number. 2\n"
     ]
    },
    {
     "name": "stdout",
     "output_type": "stream",
     "text": [
      "Rotated tuple: ['3', '4', '5', '1', '2']\n"
     ]
    }
   ],
   "source": [
    "# Enter tuple\n",
    "a=input(\"Enter the elements of tuple\").split()\n",
    "\n",
    "# Enter the shift number\n",
    "n=int(input(\"Enter the number.\"))\n",
    "\n",
    "# Print the rotated tuple to left\n",
    "print(\"Rotated tuple:\",a[n:]+a[:n])"
   ]
  },
  {
   "cell_type": "markdown",
   "id": "66dcf9ba-18c0-4a74-8006-e2d96315efad",
   "metadata": {},
   "source": [
    "### 40. Rotate a tuple to the right by n positions."
   ]
  },
  {
   "cell_type": "code",
   "execution_count": 37,
   "id": "8948aa73-29dc-4303-8f85-6e54bbc18299",
   "metadata": {},
   "outputs": [
    {
     "name": "stdin",
     "output_type": "stream",
     "text": [
      "Enter the elements of tuple 1 2 3 4 5\n",
      "Enter the number. 2\n"
     ]
    },
    {
     "name": "stdout",
     "output_type": "stream",
     "text": [
      "Rotated tuple: ['4', '5', '1', '2', '3']\n"
     ]
    }
   ],
   "source": [
    "# Enter tuple\n",
    "a=input(\"Enter the elements of tuple\").split()\n",
    "\n",
    "# Enter the shift number\n",
    "n=int(input(\"Enter the number.\"))\n",
    "\n",
    "# Print the rotated tuple to right \n",
    "print(\"Rotated tuple:\",a[-n:]+a[:-n])"
   ]
  },
  {
   "cell_type": "markdown",
   "id": "54424e52-8100-419d-8778-17482ebcebcd",
   "metadata": {},
   "source": [
    "### 41.Create a tuple of the first 5 Fibonacci numbers."
   ]
  },
  {
   "cell_type": "code",
   "execution_count": 43,
   "id": "01ca43ac-5e16-4c60-8bed-11cb10345a2a",
   "metadata": {},
   "outputs": [
    {
     "name": "stdout",
     "output_type": "stream",
     "text": [
      "(0, 1, 1, 2, 3)\n"
     ]
    }
   ],
   "source": [
    "a=[0,1]\n",
    "for i in range(3):\n",
    "    b=a[i]+a[i+1]\n",
    "    a.append(b)\n",
    "    \n",
    "# Print the first 5 numbers of fibonacci numbers\n",
    "print(tuple(a))"
   ]
  },
  {
   "cell_type": "markdown",
   "id": "6707f723-e65c-4918-8053-1c5a67a94352",
   "metadata": {},
   "source": [
    "### 42. Create a tuple from user input."
   ]
  },
  {
   "cell_type": "code",
   "execution_count": 2,
   "id": "27716d5d-21df-4483-85c2-fb58b97f9993",
   "metadata": {},
   "outputs": [
    {
     "name": "stdin",
     "output_type": "stream",
     "text": [
      "Enter the elements of tuple hi 38 7 100.3 True\n"
     ]
    },
    {
     "name": "stdout",
     "output_type": "stream",
     "text": [
      "User input tuple: ('hi', '38', '7', '100.3', 'True')\n"
     ]
    }
   ],
   "source": [
    "# Enter tuple split by space\n",
    "a=input(\"Enter the elements of tuple\").split()\n",
    "\n",
    "# Print user input tuple\n",
    "print(\"User input tuple:\",tuple(a))"
   ]
  },
  {
   "cell_type": "markdown",
   "id": "50578965-19b2-4cb0-b14a-97b4dbaf7203",
   "metadata": {},
   "source": [
    "### 43. Swap two elements in a tuple."
   ]
  },
  {
   "cell_type": "code",
   "execution_count": 5,
   "id": "b324651e-c863-4f94-87b0-059a3ce6d65e",
   "metadata": {},
   "outputs": [
    {
     "name": "stdin",
     "output_type": "stream",
     "text": [
      "Enter the elements of tuple 1 2 3 4 5 6 7 8 9\n"
     ]
    },
    {
     "name": "stdout",
     "output_type": "stream",
     "text": [
      "Original tuple: ('1', '2', '3', '4', '5', '6', '7', '8', '9')\n"
     ]
    },
    {
     "name": "stdin",
     "output_type": "stream",
     "text": [
      "Enter first index number 2 \n",
      "Enter second index number 5\n"
     ]
    },
    {
     "name": "stdout",
     "output_type": "stream",
     "text": [
      "After Swaping two elements of tuple: ('1', '2', '6', '4', '5', '3', '7', '8', '9')\n"
     ]
    }
   ],
   "source": [
    "# Enter tuple \n",
    "a=input(\"Enter the elements of tuple\").split()\n",
    "print(\"Original tuple:\",tuple(a))\n",
    "\n",
    "# Enter two index \n",
    "n1=int(input(\"Enter first index number\"))\n",
    "n2=int(input(\"Enter second index number\"))\n",
    "\n",
    "# Swap two elements of tuple\n",
    "a[n1],a[n2]=a[n2],a[n1]\n",
    "\n",
    "# print tuple after swaping two elements.\n",
    "print(\"After Swaping two elements of tuple:\",tuple(a))"
   ]
  },
  {
   "cell_type": "markdown",
   "id": "928dd8dd-8551-4849-8511-4ce598c178f3",
   "metadata": {},
   "source": [
    "### 44. Reverse the elements of a tuple."
   ]
  },
  {
   "cell_type": "code",
   "execution_count": 8,
   "id": "3714eb32-1b1f-4552-9dd7-f8c76b37d313",
   "metadata": {},
   "outputs": [
    {
     "name": "stdin",
     "output_type": "stream",
     "text": [
      "Enter the elements of tuple 1 2 3 4\n"
     ]
    },
    {
     "name": "stdout",
     "output_type": "stream",
     "text": [
      "Original tuple: ('1', '2', '3', '4')\n",
      "Reversed tuple: ('4', '3', '2', '1')\n"
     ]
    }
   ],
   "source": [
    "# Enter tuple \n",
    "a=input(\"Enter the elements of tuple\").split()\n",
    "print(\"Original tuple:\",tuple(a))\n",
    "\n",
    "#Reverse the elements of tuple.\n",
    "print(\"Reversed tuple:\",tuple(a[::-1]))"
   ]
  },
  {
   "cell_type": "markdown",
   "id": "ab061eb5-d355-4f37-b918-b33caac9446b",
   "metadata": {},
   "source": [
    "### 45. Create a tuple of the first n powers of 2."
   ]
  },
  {
   "cell_type": "code",
   "execution_count": 14,
   "id": "d62fa5a7-7784-47e5-8e80-dbf6d324d9d7",
   "metadata": {},
   "outputs": [
    {
     "name": "stdin",
     "output_type": "stream",
     "text": [
      "Enter the number 8\n"
     ]
    },
    {
     "name": "stdout",
     "output_type": "stream",
     "text": [
      "Tuple of first 8 powers of 2: (1, 2, 4, 8, 16, 32, 64, 128)\n"
     ]
    }
   ],
   "source": [
    "# Define the number n\n",
    "n=int(input(\"Enter the number\"))\n",
    "\n",
    "# Create a tuple of first n powers of 2\n",
    "print(\"Tuple of first \"+str(n)+\" powers of 2:\",tuple(2**n for n in range(n)))"
   ]
  },
  {
   "cell_type": "markdown",
   "id": "279ea808-7e2c-4a3c-9135-531c4c1bd846",
   "metadata": {},
   "source": [
    "### 46. Find the longest string in a tuple of strings."
   ]
  },
  {
   "cell_type": "code",
   "execution_count": 16,
   "id": "f9c37e69-4a90-4e60-a994-1369699109d8",
   "metadata": {},
   "outputs": [
    {
     "name": "stdin",
     "output_type": "stream",
     "text": [
      "Enter the elements of tuple yellow red blue black\n"
     ]
    },
    {
     "name": "stdout",
     "output_type": "stream",
     "text": [
      "Given tuple: ('yellow', 'red', 'blue', 'black')\n",
      "longest string in the tuple: yellow\n"
     ]
    }
   ],
   "source": [
    "# Enter tuple \n",
    "a=input(\"Enter the elements of tuple\").split()\n",
    "print(\"Given tuple:\",tuple(a))\n",
    "\n",
    "# Find the longest string in the tuple\n",
    "print(\"Longest string in the tuple:\",max(a,key=len))"
   ]
  },
  {
   "cell_type": "markdown",
   "id": "43b2822d-b5ae-47f4-8f53-55cfc5098dc4",
   "metadata": {},
   "source": [
    "### 47. Find the shortest string in a tuple of strings."
   ]
  },
  {
   "cell_type": "code",
   "execution_count": 17,
   "id": "4b6e307e-8ca8-4d4d-aca8-0118e2b30f27",
   "metadata": {},
   "outputs": [
    {
     "name": "stdin",
     "output_type": "stream",
     "text": [
      "Enter the elements of tuple banana kiwi apple grapes \n"
     ]
    },
    {
     "name": "stdout",
     "output_type": "stream",
     "text": [
      "Given tuple: ('banana', 'kiwi', 'apple', 'grapes')\n",
      "Shortest string in the tuple: kiwi\n"
     ]
    }
   ],
   "source": [
    "# Enter tuple \n",
    "a=input(\"Enter the elements of tuple\").split()\n",
    "print(\"Given tuple:\",tuple(a))\n",
    "\n",
    "# Find the shortest string in the tuple\n",
    "print(\"Shortest string in the tuple:\",min(a,key=len))"
   ]
  },
  {
   "cell_type": "markdown",
   "id": "9803bfac-910d-4995-aa8b-3614fbe774c4",
   "metadata": {},
   "source": [
    "### 48. Create a tuple of the first n triangular numbers."
   ]
  },
  {
   "cell_type": "code",
   "execution_count": 21,
   "id": "4c71a9a2-d23a-4ca6-b82c-6478e7d6e978",
   "metadata": {},
   "outputs": [
    {
     "name": "stdin",
     "output_type": "stream",
     "text": [
      "Enter the value n 6\n"
     ]
    },
    {
     "name": "stdout",
     "output_type": "stream",
     "text": [
      "First 6 triangular numbers: (1, 3, 6, 10, 15, 21)\n"
     ]
    }
   ],
   "source": [
    "# Enter the value n\n",
    "n=int(input(\"Enter the value n\"))\n",
    "\n",
    "# print the tuple of triangular numbers\n",
    "print(\"First \"+str(n)+\" triangular numbers:\",tuple(i*(i+1)//2 for i in range(1,n+1)))"
   ]
  },
  {
   "cell_type": "markdown",
   "id": "9fa6339f-daed-4855-9759-955b6bce317e",
   "metadata": {},
   "source": [
    "### 49. Check if a tuple contains another tuple as a subsequence."
   ]
  },
  {
   "cell_type": "code",
   "execution_count": 19,
   "id": "6be51bf0-0915-4576-b84b-782282bddbfb",
   "metadata": {},
   "outputs": [
    {
     "name": "stdout",
     "output_type": "stream",
     "text": [
      "Main tuple contains subsequence tuple: True\n"
     ]
    }
   ],
   "source": [
    "main_tuple = (1, 2, 3, 4, 5, 6, 7, 8, 9)\n",
    "sub_tuple = (3, 4, 5)\n",
    "\n",
    "def contains_subsequence(main_tuple, sub_tuple):\n",
    "    sub_length = len(sub_tuple)\n",
    "    for i in range(len(main_tuple) - sub_length + 1):\n",
    "        if main_tuple[i:i+sub_length] == sub_tuple:\n",
    "            return True\n",
    "    return False\n",
    "\n",
    "contains_subseq = contains_subsequence(main_tuple, sub_tuple)\n",
    "\n",
    "print(\"Main tuple contains subsequence tuple:\", contains_subseq)\n"
   ]
  },
  {
   "cell_type": "markdown",
   "id": "af9f8421-adae-4e58-b1e9-cb5cfb6e90a1",
   "metadata": {},
   "source": [
    "### 50. Create a tuple of alternating 1s and 0s of length n."
   ]
  },
  {
   "cell_type": "code",
   "execution_count": 25,
   "id": "3808f5f8-d70e-4605-b965-387f499597aa",
   "metadata": {},
   "outputs": [
    {
     "name": "stdin",
     "output_type": "stream",
     "text": [
      "Enter the value of n 6\n"
     ]
    },
    {
     "name": "stdout",
     "output_type": "stream",
     "text": [
      "Tuple of alternating 1s and 0s: (0, 1, 0, 1, 0, 1)\n"
     ]
    }
   ],
   "source": [
    "# Enter the value n.\n",
    "n=int(input(\"Enter the value of n\"))\n",
    "\n",
    "# Create a tuple of alternating 1's and 0's of lenght n\n",
    "print(\"Tuple of alternating 1s and 0s:\",tuple(i%2 for i in range(n)))"
   ]
  },
  {
   "cell_type": "markdown",
   "id": "465c859d-778a-4a88-bb86-69606be15bfe",
   "metadata": {},
   "source": [
    "## **Set based problems:**\n",
    "\n",
    "---"
   ]
  },
  {
   "cell_type": "markdown",
   "id": "84de125d-2a3a-441b-80c5-8d415cb87361",
   "metadata": {},
   "source": [
    "### 1. Create a set with integers from 1 to 5"
   ]
  },
  {
   "cell_type": "code",
   "execution_count": 26,
   "id": "0267e055-5b78-467e-b85e-51f376500149",
   "metadata": {},
   "outputs": [
    {
     "name": "stdout",
     "output_type": "stream",
     "text": [
      "{1, 2, 3, 4, 5}\n"
     ]
    }
   ],
   "source": [
    "# print the set of integers from 1 to 5\n",
    "print(set(range(1,6)))"
   ]
  },
  {
   "cell_type": "markdown",
   "id": "13591f08-af35-4a73-afef-858273d18c5a",
   "metadata": {},
   "source": [
    "### 2. Add an element to a set"
   ]
  },
  {
   "cell_type": "code",
   "execution_count": 28,
   "id": "0d34f50b-8993-45ce-9e32-fa7ba9bcd7be",
   "metadata": {},
   "outputs": [
    {
     "name": "stdout",
     "output_type": "stream",
     "text": [
      "Original set: {1, 2, 3, 4, 5}\n",
      "Set after adding elements: {1, 2, 3, 4, 5, 6}\n"
     ]
    }
   ],
   "source": [
    "# Take a set\n",
    "a=set(range(1,6))\n",
    "print(\"Original set:\",a)\n",
    "\n",
    "# add elements of set\n",
    "a.add(6)\n",
    "\n",
    "# print set after adding elements\n",
    "print(\"Set after adding elements:\",a)"
   ]
  },
  {
   "cell_type": "markdown",
   "id": "c81f9857-3411-493c-98b8-2de6cdc1ebe6",
   "metadata": {},
   "source": [
    "### 3. Remove an element from a set."
   ]
  },
  {
   "cell_type": "code",
   "execution_count": 29,
   "id": "2264fa13-491d-4a93-9f0a-91d3eef9bfbf",
   "metadata": {},
   "outputs": [
    {
     "name": "stdout",
     "output_type": "stream",
     "text": [
      "Original set: {1, 2, 3, 4, 5, 6, 7, 8, 9}\n",
      "Set after removing one element: {1, 2, 4, 5, 6, 7, 8, 9}\n"
     ]
    }
   ],
   "source": [
    "# Take a set\n",
    "a=set(range(1,10))\n",
    "print(\"Original set:\",a)\n",
    "\n",
    "# remove the elemet 3 from set\n",
    "a.remove(3)\n",
    "\n",
    "# After removing one element from set\n",
    "print(\"Set after removing one element:\",a)"
   ]
  },
  {
   "cell_type": "markdown",
   "id": "546f6030-0c31-4ac0-9eb3-7ec781c286b0",
   "metadata": {},
   "source": [
    "### 4. Check if an element exists in a set."
   ]
  },
  {
   "cell_type": "code",
   "execution_count": 35,
   "id": "bd0d9cd0-7c2a-492c-b208-0051e4f9c101",
   "metadata": {},
   "outputs": [
    {
     "name": "stdout",
     "output_type": "stream",
     "text": [
      "Original set: {1, 2, 3, 4, 5, 6, 7, 8, 9}\n"
     ]
    },
    {
     "name": "stdin",
     "output_type": "stream",
     "text": [
      "Enter the element to check: 6\n"
     ]
    },
    {
     "name": "stdout",
     "output_type": "stream",
     "text": [
      "6 is exists in the given set\n"
     ]
    }
   ],
   "source": [
    "# Take a set\n",
    "a=set(range(1,10))\n",
    "print(\"Original set:\",a)\n",
    "\n",
    "# Enter the element which you want to check \n",
    "n=int(input(\"Enter the element to check:\"))\n",
    "\n",
    "if (n in a):\n",
    "    print(str(n)+\" is exists in the given set\")\n",
    "else:\n",
    "    print(str(n)+\" is not exists in the given set\")"
   ]
  },
  {
   "cell_type": "markdown",
   "id": "38e3b5c6-189e-43ec-8b55-2c74eb264811",
   "metadata": {},
   "source": [
    "### 5. Find the length of a set without using the len() function"
   ]
  },
  {
   "cell_type": "code",
   "execution_count": 37,
   "id": "50089c90-e712-46c0-be77-c7d04e1ce536",
   "metadata": {},
   "outputs": [
    {
     "name": "stdout",
     "output_type": "stream",
     "text": [
      "Given set: {1, 2, 3, 4, 5, 6, 7, 8, 9}\n",
      "Lenght of a set: 9\n"
     ]
    }
   ],
   "source": [
    "# Take a set\n",
    "a=set(range(1,10))\n",
    "print(\"Given set:\",a)\n",
    "\n",
    "# find the lenght of a set \n",
    "def find_lenght(a):\n",
    "    count=0\n",
    "    for i in a:\n",
    "        count+=1\n",
    "    return count\n",
    "\n",
    "# print the lenght of a set\n",
    "print(\"Lenght of a set:\",find_lenght(a))"
   ]
  },
  {
   "cell_type": "markdown",
   "id": "c1163f33-7eb9-4ea2-aafe-be4f51a6309e",
   "metadata": {},
   "source": [
    "### 6. Clear all elements from a set."
   ]
  },
  {
   "cell_type": "code",
   "execution_count": 38,
   "id": "76be1450-4574-47ec-81e8-b59b76070c33",
   "metadata": {},
   "outputs": [
    {
     "name": "stdout",
     "output_type": "stream",
     "text": [
      "Given set: {1, 2, 3, 4, 5, 6, 7, 8, 9}\n",
      "Set after clearing: set()\n"
     ]
    }
   ],
   "source": [
    "# Take a set\n",
    "a=set(range(1,10))\n",
    "print(\"Given set:\",a)\n",
    "\n",
    "# clear the set\n",
    "a.clear()\n",
    "\n",
    "# print the set after clearing \n",
    "print(\"Set after clearing:\",a)"
   ]
  },
  {
   "cell_type": "markdown",
   "id": "7ba83ba3-799e-4f50-8b83-35d212100f50",
   "metadata": {},
   "source": [
    "### 7. Create a set of even numbers from 1 to 10"
   ]
  },
  {
   "cell_type": "code",
   "execution_count": 39,
   "id": "53bbdb57-f549-4f8b-a57b-3c7ccb8264fd",
   "metadata": {},
   "outputs": [
    {
     "name": "stdout",
     "output_type": "stream",
     "text": [
      "{2, 4, 6, 8, 10}\n"
     ]
    }
   ],
   "source": [
    "# Display a set of even numbers from 1 to 10\n",
    "print(set(i for i in range(1,11) if i%2==0))"
   ]
  },
  {
   "cell_type": "markdown",
   "id": "11762a67-65ae-4f14-80c2-87e92f75ba5a",
   "metadata": {},
   "source": [
    "### 8. Create a set of odd numbers from 1 to 10"
   ]
  },
  {
   "cell_type": "code",
   "execution_count": 40,
   "id": "ce30e2d8-db02-478b-8e8a-331f36be2787",
   "metadata": {},
   "outputs": [
    {
     "name": "stdout",
     "output_type": "stream",
     "text": [
      "{1, 3, 5, 7, 9}\n"
     ]
    }
   ],
   "source": [
    "# Display a set of even numbers from 1 to 10\n",
    "print(set(i for i in range(1,11) if i%2!=0))"
   ]
  },
  {
   "cell_type": "markdown",
   "id": "1175846c-1b96-40b8-8d1c-4c95f909c3b2",
   "metadata": {},
   "source": [
    "### 9. Find the union of two sets"
   ]
  },
  {
   "cell_type": "code",
   "execution_count": 1,
   "id": "5b4b28f4-1356-4a8c-88ea-92f7390cf04d",
   "metadata": {},
   "outputs": [
    {
     "name": "stdout",
     "output_type": "stream",
     "text": [
      "First set: {1, 2, 3, 4}\n",
      "Second set: {8, 5, 6, 7}\n",
      "Union of these two sets: {1, 2, 3, 4, 5, 6, 7, 8}\n"
     ]
    }
   ],
   "source": [
    "# Define two sets\n",
    "set1={1,2,3,4}\n",
    "set2={5,6,7,8}\n",
    "\n",
    "# Union of two sets\n",
    "set_union=set1.union(set2)\n",
    "\n",
    "# print union of two sets\n",
    "print(\"First set:\",set1)\n",
    "print(\"Second set:\",set2)\n",
    "print(\"Union of these two sets:\",set_union)"
   ]
  },
  {
   "cell_type": "markdown",
   "id": "9ba13ab5-ed4b-4453-806c-4a95befb4c8a",
   "metadata": {},
   "source": [
    "### 10. Find the intersection of two sets"
   ]
  },
  {
   "cell_type": "code",
   "execution_count": 3,
   "id": "dd31af6b-724b-419d-a109-e48af2f1b637",
   "metadata": {},
   "outputs": [
    {
     "name": "stdout",
     "output_type": "stream",
     "text": [
      "First set: {1, 2, 3, 4, 5}\n",
      "Second set: {5, 6, 7, 8, 9, 10}\n",
      "Intersection of these two sets: {5}\n"
     ]
    }
   ],
   "source": [
    "# Define two sets\n",
    "set1={1,2,3,4,5}\n",
    "set2={5,6,7,8,9,10}\n",
    "\n",
    "# Intersection of two sets\n",
    "set_inter=set1.intersection(set2)\n",
    "\n",
    "# print intersection of two sets\n",
    "print(\"First set:\",set1)\n",
    "print(\"Second set:\",set2)\n",
    "print(\"Intersection of these two sets:\",set_inter)"
   ]
  },
  {
   "cell_type": "markdown",
   "id": "b0e638d4-d160-4d67-9615-14d989efc7ab",
   "metadata": {},
   "source": [
    "### 11. Find the difference between two sets."
   ]
  },
  {
   "cell_type": "code",
   "execution_count": 5,
   "id": "2c50b1fa-c819-41fa-8884-e075a813bcae",
   "metadata": {},
   "outputs": [
    {
     "name": "stdout",
     "output_type": "stream",
     "text": [
      "First set: {1, 2, 3, 4, 5}\n",
      "Second set: {4, 5, 6, 7, 8}\n",
      "Difference of sets: {1, 2, 3}\n"
     ]
    }
   ],
   "source": [
    "# Define two sets\n",
    "set1={1,2,3,4,5}\n",
    "set2={4,5,6,7,8}\n",
    "\n",
    "# Difference between two sets\n",
    "set_diff=set1.difference(set2)\n",
    "\n",
    "# print difference between these two sets\n",
    "print(\"First set:\",set1)\n",
    "print(\"Second set:\",set2)\n",
    "print(\"Difference of sets:\",set_diff)"
   ]
  },
  {
   "cell_type": "markdown",
   "id": "84c330ec-2595-487b-9d6e-b80f64336a58",
   "metadata": {},
   "source": [
    "### 12. Check if a set is a subset of another set."
   ]
  },
  {
   "cell_type": "code",
   "execution_count": 10,
   "id": "202e39ad-f2b8-4f57-b57b-760393ba8665",
   "metadata": {},
   "outputs": [
    {
     "name": "stdout",
     "output_type": "stream",
     "text": [
      "Set: {1, 2, 3, 4, 5, 6, 7, 8, 9, 10}\n"
     ]
    },
    {
     "name": "stdin",
     "output_type": "stream",
     "text": [
      "Enter a set 4 5 6\n"
     ]
    },
    {
     "name": "stdout",
     "output_type": "stream",
     "text": [
      "{4, 5, 6} is subset of {1, 2, 3, 4, 5, 6, 7, 8, 9, 10}\n"
     ]
    }
   ],
   "source": [
    "# Define a set\n",
    "set1=set(range(1,11))\n",
    "print(\"Set:\",set1)\n",
    "\n",
    "# Enter the set which you want to check the subset\n",
    "set_2=input(\"Enter a set\").split( )\n",
    "set2=set(int(item) for item in set_2)\n",
    "\n",
    "# Check the subset\n",
    "if (set2.issubset(set1)):\n",
    "    print(f\"{set2} is subset of {set1}\")\n",
    "else:\n",
    "    print(f\"{set2} is not subset of {set1}\")"
   ]
  },
  {
   "cell_type": "markdown",
   "id": "e00914e5-8da4-4e82-9d29-86af52e0d6c0",
   "metadata": {},
   "source": [
    "### 13. Check if a set is a superset of another set."
   ]
  },
  {
   "cell_type": "code",
   "execution_count": 11,
   "id": "5d02767d-1efb-4b2f-a7d6-158c6782d20b",
   "metadata": {},
   "outputs": [
    {
     "name": "stdout",
     "output_type": "stream",
     "text": [
      "{1, 2, 3, 4, 5, 6, 7, 8} is superset of {3, 4, 5}\n"
     ]
    }
   ],
   "source": [
    "# Define two sets\n",
    "set1 = {1, 2, 3, 4, 5, 6, 7, 8}\n",
    "set2 = {3, 4, 5}\n",
    "\n",
    "# check set1 is superset of set2\n",
    "if (set1.issuperset(set2)):\n",
    "    print(f\"{set1} is superset of {set2}\")\n",
    "else:\n",
    "    print(f\"{set1} is not superset of {set2}\")"
   ]
  },
  {
   "cell_type": "markdown",
   "id": "d1a6ace9-d30d-4730-958d-0dd645f88c88",
   "metadata": {},
   "source": [
    "### 14. Create a set from a list"
   ]
  },
  {
   "cell_type": "code",
   "execution_count": 12,
   "id": "eccfe6ac-ef28-42d8-bdf6-a011886519c3",
   "metadata": {},
   "outputs": [
    {
     "name": "stdout",
     "output_type": "stream",
     "text": [
      "List [2, 5, 7, 2, 6, 8, 2, 7, 4]\n",
      "Set from list: {2, 4, 5, 6, 7, 8}\n"
     ]
    }
   ],
   "source": [
    "# Define a list\n",
    "a=[2,5,7,2,6,8,2,7,4]\n",
    "print(\"List\",a)\n",
    "\n",
    "# Convert set from list and print\n",
    "print(\"Set from list:\",set(a))"
   ]
  },
  {
   "cell_type": "markdown",
   "id": "2d2a3442-120d-4ebb-9f27-054a0135b07e",
   "metadata": {},
   "source": [
    "### 15. Convert a set to a list."
   ]
  },
  {
   "cell_type": "code",
   "execution_count": 13,
   "id": "7595953b-2792-4ad5-b817-cd0bdfcc474f",
   "metadata": {},
   "outputs": [
    {
     "name": "stdout",
     "output_type": "stream",
     "text": [
      "Set {1, 2, 3, 4, 5, 6, 7, 8, 9}\n",
      "List from set: [1, 2, 3, 4, 5, 6, 7, 8, 9]\n"
     ]
    }
   ],
   "source": [
    "# Define a set\n",
    "a={2,5,9,3,6,8,1,7,4}\n",
    "print(\"Set\",a)\n",
    "\n",
    "# Convert list from set and print\n",
    "print(\"List from set:\",list(a))"
   ]
  },
  {
   "cell_type": "markdown",
   "id": "e1e0204c-22f6-476c-931a-5700f0d45050",
   "metadata": {},
   "source": [
    "### 16. Remove a random element from a set."
   ]
  },
  {
   "cell_type": "code",
   "execution_count": 16,
   "id": "796db5af-2fa8-4317-93d5-ae2453e7cc8b",
   "metadata": {},
   "outputs": [
    {
     "name": "stdout",
     "output_type": "stream",
     "text": [
      " Original set: {1, 2, 3, 4, 5, 6, 7, 8, 9}\n",
      "Set after removing the rendom element: {1, 2, 3, 4, 5, 6, 8, 9}\n"
     ]
    }
   ],
   "source": [
    "import random\n",
    "\n",
    "# Define a set\n",
    "a={2,5,9,3,6,8,1,7,4}\n",
    "print(\" Original set:\",a)\n",
    "\n",
    "# Choose random element from the set\n",
    "b=random.choice(list(a))\n",
    "\n",
    "# Remove random element from the set\n",
    "a.remove(b)\n",
    "\n",
    "# Display modified set\n",
    "print(\"Set after removing the rendom element:\",a)"
   ]
  },
  {
   "cell_type": "markdown",
   "id": "ae7c35fa-d3a0-4439-bc69-9d95739f62d2",
   "metadata": {},
   "source": [
    "### 17. Pop an element from a set."
   ]
  },
  {
   "cell_type": "code",
   "execution_count": 21,
   "id": "ac54b7a3-f16e-41cd-9e99-f5258aefd1b3",
   "metadata": {},
   "outputs": [
    {
     "name": "stdout",
     "output_type": "stream",
     "text": [
      "Original set: {1, 2, 3, 4, 5, 6, 7, 8, 9}\n",
      "Set after poping: {2, 3, 4, 5, 6, 7, 8, 9}\n"
     ]
    }
   ],
   "source": [
    "# Define a set\n",
    "a={2,5,9,3,6,8,1,7,4}\n",
    "print(\"Original set:\",a)\n",
    "\n",
    "# Pop a element from the set\n",
    "a.pop()\n",
    "\n",
    "# Display the modified set\n",
    "print(\"Set after poping:\",a)"
   ]
  },
  {
   "cell_type": "markdown",
   "id": "9557aec8-57cf-45c2-a345-113df0270c7e",
   "metadata": {},
   "source": [
    "### 18. Check if two sets have no elements in common."
   ]
  },
  {
   "cell_type": "code",
   "execution_count": 23,
   "id": "b442ddc0-3d9d-4f26-a815-c3ed89ce1746",
   "metadata": {},
   "outputs": [
    {
     "name": "stdout",
     "output_type": "stream",
     "text": [
      "First set: {1, 2, 3, 4, 5}\n",
      "Second set: {4, 5, 6, 7}\n",
      "{1, 2, 3, 4, 5} and {4, 5, 6, 7} have common elements.\n"
     ]
    }
   ],
   "source": [
    "# Define two sets\n",
    "set1={1,2,3,4,5}\n",
    "set2={4,5,6,7}\n",
    "\n",
    "# Diplay the two sets\n",
    "print(\"First set:\",set1)\n",
    "print(\"Second set:\",set2)\n",
    "\n",
    "# check the common element from these two sets\n",
    "if (set1.isdisjoint(set2)):\n",
    "    print(f\"{set1} and {set2} have no common elements.\")\n",
    "else:\n",
    "    print(f\"{set1} and {set2} have common elements.\")    "
   ]
  },
  {
   "cell_type": "markdown",
   "id": "f4c3be88-fe26-4e5e-ab26-79990a147fdf",
   "metadata": {},
   "source": [
    "### 19. Find the symmetric difference between two sets."
   ]
  },
  {
   "cell_type": "code",
   "execution_count": 24,
   "id": "45e1d36d-11f2-437b-a12f-5450c6001dd4",
   "metadata": {},
   "outputs": [
    {
     "name": "stdout",
     "output_type": "stream",
     "text": [
      "First set: {1, 2, 3, 4, 5}\n",
      "Second set: {4, 5, 6, 7}\n",
      "Symmetric Difference: {1, 2, 3, 6, 7}\n"
     ]
    }
   ],
   "source": [
    "# Define two sets\n",
    "set1={1,2,3,4,5}\n",
    "set2={4,5,6,7}\n",
    "\n",
    "# Diplay the two sets\n",
    "print(\"First set:\",set1)\n",
    "print(\"Second set:\",set2)\n",
    "\n",
    "# Symmetric difference between two sets\n",
    "symmetric_diff=set1.symmetric_difference(set2)\n",
    "\n",
    "## Print the symmetric difference\n",
    "print(\"Symmetric Difference:\", symmetric_diff)"
   ]
  },
  {
   "cell_type": "markdown",
   "id": "37012b76-07c6-467d-a1a3-5ffbede4dc9c",
   "metadata": {},
   "source": [
    "### 20. Update a set with elements from another set."
   ]
  },
  {
   "cell_type": "code",
   "execution_count": 26,
   "id": "34638650-025d-4027-b3f1-8062d8fe1b9a",
   "metadata": {},
   "outputs": [
    {
     "name": "stdout",
     "output_type": "stream",
     "text": [
      "First set: {1, 2, 3, 4, 5}\n",
      "Second set: {4, 5, 6, 7}\n",
      "Updated set: {1, 2, 3, 4, 5, 6, 7}\n"
     ]
    }
   ],
   "source": [
    "# Define two sets\n",
    "set1={1,2,3,4,5}\n",
    "set2={4,5,6,7}\n",
    "\n",
    "# Diplay the two sets\n",
    "print(\"First set:\",set1)\n",
    "print(\"Second set:\",set2)\n",
    "\n",
    "# Update set1 with elements of set2 \n",
    "set1.update(set2)\n",
    "\n",
    "# Display the updated set\n",
    "print(\"Updated set:\",set1)"
   ]
  },
  {
   "cell_type": "markdown",
   "id": "33149e94-edc5-42f9-9ffb-fe2dbeaab356",
   "metadata": {},
   "source": [
    "### 21. Create a set of the first 5 prime numbers."
   ]
  },
  {
   "cell_type": "code",
   "execution_count": 4,
   "id": "b14f459f-5f91-46a8-8b88-9cc66c061d24",
   "metadata": {},
   "outputs": [
    {
     "name": "stdout",
     "output_type": "stream",
     "text": [
      "Set of first 5 prime numbers: {2, 3, 5, 7, 11}\n"
     ]
    }
   ],
   "source": [
    "# Define a function to check prime number\n",
    "def is_prime(num):\n",
    "    for i in range(2,num):\n",
    "        if (num%i==0):\n",
    "            return False\n",
    "    return True\n",
    "\n",
    "# Create a set of first 5 prime numbers\n",
    "set_prime=list(iteam for iteam in range(2,20) if is_prime(iteam))[:5]\n",
    "\n",
    "# Display the first 5 prime numbers\n",
    "print(\"Set of first 5 prime numbers:\",set(set_prime))"
   ]
  },
  {
   "cell_type": "markdown",
   "id": "40d04389-b08a-4426-a1bc-8d1cf8586632",
   "metadata": {},
   "source": [
    "### 22. Check if two sets are identical."
   ]
  },
  {
   "cell_type": "code",
   "execution_count": 6,
   "id": "6608d941-e0ac-4343-8fc9-2532f4ca20b3",
   "metadata": {},
   "outputs": [
    {
     "name": "stdout",
     "output_type": "stream",
     "text": [
      "The sets are not identical\n"
     ]
    }
   ],
   "source": [
    "# Define two sets\n",
    "set1={1,2,3,4,5}\n",
    "set2={3,4,5,6,7}\n",
    "\n",
    "# Check whether the two sets are identical or not\n",
    "if (set1==set2):\n",
    "    print(\"The sets are identical\")\n",
    "else:\n",
    "    print(\"The sets are not identical\")"
   ]
  },
  {
   "cell_type": "markdown",
   "id": "1acbb50d-aad9-47e8-8620-3cf1e426fbc5",
   "metadata": {},
   "source": [
    "### 23. Create a frozen set"
   ]
  },
  {
   "cell_type": "code",
   "execution_count": 7,
   "id": "28aae820-0b1c-46e6-ab34-ba3663a2561f",
   "metadata": {},
   "outputs": [
    {
     "name": "stdout",
     "output_type": "stream",
     "text": [
      "Frozen Set: frozenset({'Apple', 'Banana', 'Kiwi', 'Grapes'})\n"
     ]
    }
   ],
   "source": [
    "# Define a list of elements \n",
    "elements = ['Apple','Banana','Grapes','Kiwi']\n",
    "\n",
    "# Create a frozen set \n",
    "my_frozen_set = frozenset(elements)\n",
    "\n",
    "# Print the frozen set\n",
    "print(\"Frozen Set:\", my_frozen_set)"
   ]
  },
  {
   "cell_type": "markdown",
   "id": "3ca14073-363c-4161-8084-6b1d7caf7281",
   "metadata": {},
   "source": [
    "### 24. Check if a set is disjoint with another set."
   ]
  },
  {
   "cell_type": "code",
   "execution_count": 8,
   "id": "20e1a52e-1980-4f08-a855-cb2f6f92cb06",
   "metadata": {},
   "outputs": [
    {
     "name": "stdout",
     "output_type": "stream",
     "text": [
      "The sets are not disjoint\n"
     ]
    }
   ],
   "source": [
    "# Define two sets\n",
    "set1={1,2,3,4,5}\n",
    "set2={3,4,5,6,7}\n",
    "\n",
    "# Check whether the two sets are disjoint\n",
    "if (set1.isdisjoint(set2)):\n",
    "    print(\"The sets are disjoint\")\n",
    "else:\n",
    "    print(\"The sets are not disjoint\")"
   ]
  },
  {
   "cell_type": "markdown",
   "id": "828bf408-d630-41ff-8e50-2dbf7b60940c",
   "metadata": {},
   "source": [
    "### 25. Create a set of squares of numbers from 1 to 5."
   ]
  },
  {
   "cell_type": "code",
   "execution_count": 9,
   "id": "60b84e1e-f624-4dce-bb54-eaf92c26f3d5",
   "metadata": {},
   "outputs": [
    {
     "name": "stdout",
     "output_type": "stream",
     "text": [
      "Set of squares of numbers from 1 to 5: {1, 4, 9, 16, 25}\n"
     ]
    }
   ],
   "source": [
    "# Create a set of square of first 5 numbers\n",
    "set1=set(i**2 for i in range(1,6))\n",
    "\n",
    "# Display the set of squares of first 5 numbers\n",
    "print(\"Set of squares of numbers from 1 to 5:\",set1)"
   ]
  },
  {
   "cell_type": "markdown",
   "id": "fec72464-2d9a-4991-8778-30ac8fdc8850",
   "metadata": {},
   "source": [
    "### 26. Filter out all even numbers from a set."
   ]
  },
  {
   "cell_type": "code",
   "execution_count": 12,
   "id": "0c99c2b2-a938-4c3d-b75e-d1a2ebf232b1",
   "metadata": {},
   "outputs": [
    {
     "name": "stdout",
     "output_type": "stream",
     "text": [
      "Original set: {1, 2, 3, 4, 5, 6, 7, 8, 9}\n",
      "Filter out even numbers from original set: {8, 2, 4, 6}\n"
     ]
    }
   ],
   "source": [
    "# Define a set\n",
    "set1=set(i for i in range(1,10))\n",
    "print(\"Original set:\",set1)\n",
    "\n",
    "# Filter out all even numbers from a set.\n",
    "print(\"Filter out even numbers from original set:\",set(b for b in set1 if b%2==0))"
   ]
  },
  {
   "cell_type": "markdown",
   "id": "d0bfefa2-c8ce-454f-bedf-9772ecf5bb03",
   "metadata": {},
   "source": [
    "### 27. Multiply all elements in a set by 2."
   ]
  },
  {
   "cell_type": "code",
   "execution_count": 14,
   "id": "d09e487f-1af6-484a-900f-d3aa88716783",
   "metadata": {},
   "outputs": [
    {
     "name": "stdout",
     "output_type": "stream",
     "text": [
      "Original set: {1, 2, 3, 4, 5}\n",
      "The set after multiply with 2 {2, 4, 6, 8, 10}\n"
     ]
    }
   ],
   "source": [
    "# Define a set\n",
    "set1=set(i for i in range(1,6))\n",
    "print(\"Original set:\",set1)\n",
    "\n",
    "# Multiple the elements of set with 2\n",
    "print(\"The set after multiply with 2\",set(b*2 for b in set1))"
   ]
  },
  {
   "cell_type": "markdown",
   "id": "c3649bfe-0055-4e38-acd9-89da10693253",
   "metadata": {},
   "source": [
    "### 28. Create a set of random numbers."
   ]
  },
  {
   "cell_type": "code",
   "execution_count": 16,
   "id": "9a7e6cad-f830-4977-9d87-28d00bdbd5d1",
   "metadata": {},
   "outputs": [
    {
     "name": "stdout",
     "output_type": "stream",
     "text": [
      "Generated set of random numbers from 1 to 50: {34, 35, 3, 40, 9, 15, 50, 27}\n"
     ]
    }
   ],
   "source": [
    "# import the random library\n",
    "import random\n",
    "\n",
    "# Create a set of random elements from 1 to 50\n",
    "set_random=set()\n",
    "for i in range(10):\n",
    "    set_random.add(random.randint(1,50))\n",
    "\n",
    "# Display the set of random numbers from 1 to 50\n",
    "print(\"Generated set of random numbers from 1 to 50:\",set_random)"
   ]
  },
  {
   "cell_type": "markdown",
   "id": "bac0537e-060d-490e-96cd-cb243d0252b9",
   "metadata": {},
   "source": [
    "### 29. Check if a set is empty."
   ]
  },
  {
   "cell_type": "code",
   "execution_count": 17,
   "id": "264c3fdb-a7f1-445d-8042-85c4aa334e86",
   "metadata": {},
   "outputs": [
    {
     "name": "stdin",
     "output_type": "stream",
     "text": [
      "Enter the elements of set: \n"
     ]
    },
    {
     "name": "stdout",
     "output_type": "stream",
     "text": [
      "Given set is empty\n"
     ]
    }
   ],
   "source": [
    "# Enter a set\n",
    "set1=set(input(\"Enter the elements of set:\").split())\n",
    "\n",
    "# Check the given set is empty\n",
    "if (set1==set()):\n",
    "    print(\"Given set is empty\")\n",
    "else:\n",
    "    print(\"Given set is not empty\")"
   ]
  },
  {
   "cell_type": "markdown",
   "id": "4200d536-60ea-4958-b954-d75587566932",
   "metadata": {},
   "source": [
    "### 30. Create a nested set"
   ]
  },
  {
   "cell_type": "code",
   "execution_count": 23,
   "id": "530f43fb-7437-4fea-bcfc-ceb1cfc88173",
   "metadata": {},
   "outputs": [
    {
     "name": "stdout",
     "output_type": "stream",
     "text": [
      "{frozenset({1, 2, 3, 4, 5}), frozenset({6, 7, 8, 9, 10})}\n"
     ]
    }
   ],
   "source": [
    "# Define two sets\n",
    "set1 = {1, 2, 3, 4, 5}\n",
    "set2 = {6, 7, 8, 9, 10}\n",
    "\n",
    "# Create a frozen set \n",
    "set_1 = frozenset(set1)\n",
    "set_2 = frozenset(set2)\n",
    "\n",
    "# Print nested set\n",
    "print({set_1,set_2})"
   ]
  },
  {
   "cell_type": "markdown",
   "id": "28943f25-a620-4a28-a09b-a934aadc19d3",
   "metadata": {},
   "source": [
    "### 31. Remove an element from a set using the discard method."
   ]
  },
  {
   "cell_type": "code",
   "execution_count": 25,
   "id": "fcdc538d-c48f-4973-b214-5fcbeba53aae",
   "metadata": {},
   "outputs": [
    {
     "name": "stdout",
     "output_type": "stream",
     "text": [
      "Original set: {1, 2, 3, 4, 5, 6, 7, 8, 9, 10}\n",
      "Set after removing the element: {1, 2, 3, 5, 6, 7, 8, 9, 10}\n"
     ]
    }
   ],
   "source": [
    "# Define a set\n",
    "set1=set(i for i in range(1,11))\n",
    "print(\"Original set:\",set1)\n",
    "\n",
    "# Define the element to be removed\n",
    "element_to_remove=4\n",
    "\n",
    "# Removing the element \n",
    "set1.remove(element_to_remove)\n",
    "\n",
    "# Print the set after removing the element\n",
    "print(\"Set after removing the element:\",set1)"
   ]
  },
  {
   "cell_type": "markdown",
   "id": "552b685a-51e4-4cd1-b781-644e0974c2f7",
   "metadata": {},
   "source": [
    "### 32. Compare two sets."
   ]
  },
  {
   "cell_type": "code",
   "execution_count": 27,
   "id": "cf973e5e-5c8b-49e6-9599-cc3e13ff442c",
   "metadata": {},
   "outputs": [
    {
     "name": "stdout",
     "output_type": "stream",
     "text": [
      "Set 1: {1, 2, 3, 4, 5}\n",
      "Set 2: {4, 5, 6, 7, 8}\n",
      "Is set1 a subset of set2? False\n",
      "Is set2 a subset of set1? False\n",
      "Is set1 and set2 disjoint? False\n",
      "Elements in set1 but not in set2: {1, 2, 3}\n",
      "Elements in set2 but not in set1: {8, 6, 7}\n"
     ]
    }
   ],
   "source": [
    "# Step 1: Define two sets\n",
    "set1 = {1, 2, 3, 4, 5}\n",
    "set2 = {4, 5, 6, 7, 8}\n",
    "\n",
    "#  Use set operations to compare the sets\n",
    "# Check if set1 is a subset of set2\n",
    "is_subset = set1.issubset(set2)\n",
    "\n",
    "# Check if set2 is a subset of set1\n",
    "is_superset = set1.issuperset(set2)\n",
    "\n",
    "# Check if set1 and set2 is disjoint\n",
    "is_disjoint=set1.isdisjoint(set2)\n",
    "\n",
    "# Find the elements that are in set1 but not in set2\n",
    "difference1 = set1.difference(set2)\n",
    "\n",
    "# Find the elements that are in set2 but not in set1\n",
    "difference2 = set2.difference(set1)\n",
    "\n",
    "#  Print the results\n",
    "print(\"Set 1:\", set1)\n",
    "print(\"Set 2:\", set2)\n",
    "print(\"Is set1 a subset of set2?\", is_subset)\n",
    "print(\"Is set2 a subset of set1?\", is_superset)\n",
    "print(\"Is set1 and set2 disjoint?\",is_disjoint)\n",
    "print(\"Elements in set1 but not in set2:\", difference1)\n",
    "print(\"Elements in set2 but not in set1:\", difference2)"
   ]
  },
  {
   "cell_type": "markdown",
   "id": "05d42541-60be-4101-aadd-d16d54952b0d",
   "metadata": {},
   "source": [
    "### 33. Create a set from a string."
   ]
  },
  {
   "cell_type": "code",
   "execution_count": 29,
   "id": "2d5a031f-1977-469b-b879-03be150ab26c",
   "metadata": {},
   "outputs": [
    {
     "name": "stdout",
     "output_type": "stream",
     "text": [
      "Given string: Hello!\n",
      "Set from given string: {'e', 'o', '!', 'l', 'H'}\n"
     ]
    }
   ],
   "source": [
    "# Define the string\n",
    "a=\"Hello!\"\n",
    "\n",
    "# Create a set from string\n",
    "set_a=set(a)\n",
    "\n",
    "# Print the set from string \n",
    "print(\"Given string:\",a)\n",
    "print(\"Set from given string:\",set_a)"
   ]
  },
  {
   "cell_type": "markdown",
   "id": "d2c7ed3f-df7c-4af5-b485-ae03b9266c1b",
   "metadata": {},
   "source": [
    "### 34. Convert a set of strings to a set of integers."
   ]
  },
  {
   "cell_type": "code",
   "execution_count": 30,
   "id": "1828b769-047c-435e-9c68-1f6cd0722ae1",
   "metadata": {},
   "outputs": [
    {
     "name": "stdout",
     "output_type": "stream",
     "text": [
      "{1, 2, 3, 4, 5}\n"
     ]
    }
   ],
   "source": [
    "# Define a set of string\n",
    "set1={'1','2','3','4','5'}\n",
    "\n",
    "# Print the set of integers\n",
    "print(set(int(i) for i in set1))"
   ]
  },
  {
   "cell_type": "markdown",
   "id": "ef6e8c3a-09a1-4e16-89a1-f8e5e7cb427a",
   "metadata": {},
   "source": [
    "### 35. Convert a set of integers to a set of strings."
   ]
  },
  {
   "cell_type": "code",
   "execution_count": 31,
   "id": "c5c6c6b1-0ee1-44a2-a820-8a2dfa900df3",
   "metadata": {},
   "outputs": [
    {
     "name": "stdout",
     "output_type": "stream",
     "text": [
      "{'1', '2', '5', '3', '4'}\n"
     ]
    }
   ],
   "source": [
    "# Define a set of integers \n",
    "set1={1, 2, 3, 4, 5}\n",
    "\n",
    "# Print the set of strings\n",
    "print(set(str(i) for i in set1))"
   ]
  },
  {
   "cell_type": "markdown",
   "id": "e8ca3c2f-e821-429d-8997-29b5f7d2a3fb",
   "metadata": {},
   "source": [
    "### 36. Create a set from a tuple."
   ]
  },
  {
   "cell_type": "code",
   "execution_count": 32,
   "id": "b3a9832c-59bb-4753-bbda-070e0d8b1af3",
   "metadata": {},
   "outputs": [
    {
     "name": "stdout",
     "output_type": "stream",
     "text": [
      "Set from tuple: {1, 2, 3, 4, 5}\n"
     ]
    }
   ],
   "source": [
    "# Define a tuple\n",
    "tup=(1,2,3,4,5)\n",
    "\n",
    "# Print the set from tuple\n",
    "print(\"Set from tuple:\",set(tup))"
   ]
  },
  {
   "cell_type": "markdown",
   "id": "667f42fd-1408-4596-8402-86054b5c2716",
   "metadata": {},
   "source": [
    "### 37. Convert a set to a tuple."
   ]
  },
  {
   "cell_type": "code",
   "execution_count": 34,
   "id": "b8dc966c-a671-4491-b4bb-876bf5fc4e5d",
   "metadata": {},
   "outputs": [
    {
     "name": "stdout",
     "output_type": "stream",
     "text": [
      "Tuple from set: (1, 2, 3, 4, 5)\n"
     ]
    }
   ],
   "source": [
    "# Define a set \n",
    "set1={1, 2, 3, 4, 5}\n",
    "\n",
    "# Print the tuple from set\n",
    "print(\"Tuple from set:\",tuple(tup))"
   ]
  },
  {
   "cell_type": "markdown",
   "id": "0ec6967d-e78c-4f67-9aa7-5e1660494118",
   "metadata": {},
   "source": [
    "### 38. Find the maximum value in a set."
   ]
  },
  {
   "cell_type": "code",
   "execution_count": 1,
   "id": "3ebd19e0-d87f-438e-b74c-b954efcbfb50",
   "metadata": {},
   "outputs": [
    {
     "name": "stdin",
     "output_type": "stream",
     "text": [
      "Enter the elements of set 27 19 48 20 18 56 28\n"
     ]
    },
    {
     "name": "stdout",
     "output_type": "stream",
     "text": [
      "Maximum element of a set: 56\n"
     ]
    }
   ],
   "source": [
    "# Enter a set\n",
    "a=set(input(\"Enter the elements of set\").split())\n",
    "\n",
    "# find the maximum element of set\n",
    "max_element=max(a)\n",
    "\n",
    "# Print the maximum element of a set\n",
    "print(\"Maximum element of a set:\",max_element)"
   ]
  },
  {
   "cell_type": "markdown",
   "id": "7bb5b40d-c542-4d1a-8793-9bd76389d3dc",
   "metadata": {},
   "source": [
    "### 39. Find the minimum value in a set."
   ]
  },
  {
   "cell_type": "code",
   "execution_count": 2,
   "id": "6f6bf5e9-0882-4e5c-bdf6-b96c569bdeb8",
   "metadata": {},
   "outputs": [
    {
     "name": "stdin",
     "output_type": "stream",
     "text": [
      "Enter the elements of set 35 32 1 48 58 35 16\n"
     ]
    },
    {
     "name": "stdout",
     "output_type": "stream",
     "text": [
      "Minimum element of a set: 1\n"
     ]
    }
   ],
   "source": [
    "# Enter a set\n",
    "a=set(input(\"Enter the elements of set\").split())\n",
    "\n",
    "# find the minimum element of set\n",
    "min_element=min(a)\n",
    "\n",
    "# Print the minimum element of a set\n",
    "print(\"Minimum element of a set:\",min_element)"
   ]
  },
  {
   "cell_type": "markdown",
   "id": "6cb682f0-c4ae-491b-9032-eb207d15149e",
   "metadata": {},
   "source": [
    "### 40. Create a set from user input."
   ]
  },
  {
   "cell_type": "code",
   "execution_count": 3,
   "id": "f4a67265-d9a1-4306-a94f-6091ecb679c8",
   "metadata": {},
   "outputs": [
    {
     "name": "stdin",
     "output_type": "stream",
     "text": [
      "Enter the elements of set apple banana grapes kiwi\n"
     ]
    },
    {
     "name": "stdout",
     "output_type": "stream",
     "text": [
      "The set: {'banana', 'grapes', 'kiwi', 'apple'}\n"
     ]
    }
   ],
   "source": [
    "# Enter a elements of the set\n",
    "a=set(input(\"Enter the elements of set\").split())\n",
    "\n",
    "# Print the set\n",
    "print(\"The set:\",a)"
   ]
  },
  {
   "cell_type": "markdown",
   "id": "45994bcf-98f2-4ac5-a9a2-2c42b74f428e",
   "metadata": {},
   "source": [
    "### 41. Check if the intersection of two sets is empty."
   ]
  },
  {
   "cell_type": "code",
   "execution_count": 4,
   "id": "3150e39b-1df0-46b7-9e34-48f05769aae8",
   "metadata": {},
   "outputs": [
    {
     "name": "stdout",
     "output_type": "stream",
     "text": [
      "The intersection of the two sets is not empty.\n"
     ]
    }
   ],
   "source": [
    "# Define two sets\n",
    "set1={1,2,3,4,5}\n",
    "set2={3,4,5,6,7}\n",
    "\n",
    "# Find the intersection of two sets\n",
    "set_intersection=set1.intersection(set2)\n",
    "\n",
    "# Check if the intersection of given two sets is empty \n",
    "if (set_intersection==set()):\n",
    "     print(\"The intersection of the two sets is empty.\")\n",
    "else:\n",
    "    print(\"The intersection of the two sets is not empty.\")"
   ]
  },
  {
   "cell_type": "markdown",
   "id": "a82890f0-3111-4719-aa14-e5f5f56793fd",
   "metadata": {},
   "source": [
    "### 42. Create a set of the first 5 Fibonacci numbers."
   ]
  },
  {
   "cell_type": "code",
   "execution_count": 6,
   "id": "b258e6ac-1d31-4e63-a6f4-1ae301149ff8",
   "metadata": {},
   "outputs": [
    {
     "name": "stdout",
     "output_type": "stream",
     "text": [
      "Set of the first 5 Fibonacci numbers: {0, 1, 2, 3, 5}\n"
     ]
    }
   ],
   "source": [
    "# Create a set\n",
    "fibonacci_set=set()\n",
    "\n",
    "# add the elements of fibonacci numbers\n",
    "a,b=0,1\n",
    "fibonacci_set.add(a)\n",
    "fibonacci_set.add(b)\n",
    "\n",
    "for i in range(4):\n",
    "    ans=a+b\n",
    "    fibonacci_set.add(ans)\n",
    "    a=b\n",
    "    b=ans\n",
    "    \n",
    "# Print the set of fibonacci numbers\n",
    "print(\"Set of the first 5 Fibonacci numbers:\", fibonacci_set)"
   ]
  },
  {
   "cell_type": "markdown",
   "id": "5c347ed4-f871-421b-9a61-5782c54a6336",
   "metadata": {},
   "source": [
    "### 43. Remove duplicates from a list using sets."
   ]
  },
  {
   "cell_type": "code",
   "execution_count": 8,
   "id": "5af29c53-1dca-40f8-84d5-dbd1c5ec9182",
   "metadata": {},
   "outputs": [
    {
     "name": "stdout",
     "output_type": "stream",
     "text": [
      "The given list: [3, 5, 2, 5, 7, 3, 7, 3, 8, 1, 8, 9]\n",
      "List with removed duplicates: [1, 2, 3, 5, 7, 8, 9]\n"
     ]
    }
   ],
   "source": [
    "# Take a list\n",
    "a=[3,5,2,5,7,3,7,3,8,1,8,9]\n",
    "print(\"The given list:\",a)\n",
    "\n",
    "# Remove duplicates using set\n",
    "a=set(a)\n",
    "\n",
    "# Print the list after removing all duplicates\n",
    "print(\"List with removed duplicates:\",list(a))"
   ]
  },
  {
   "cell_type": "markdown",
   "id": "09e79960-a359-4e20-8ace-4e2f64e209d2",
   "metadata": {},
   "source": [
    "### 44. Check if two sets have the same elements, regardless of their count."
   ]
  },
  {
   "cell_type": "code",
   "execution_count": 9,
   "id": "ce8e53f0-5706-46ac-9b23-beb3700d0a82",
   "metadata": {},
   "outputs": [
    {
     "name": "stdout",
     "output_type": "stream",
     "text": [
      "The sets have the same elements.\n"
     ]
    }
   ],
   "source": [
    "# Define two sets\n",
    "set1 = {1, 2, 3, 2, 1}\n",
    "set2 = {3, 1, 2}\n",
    "\n",
    "# Print the result\n",
    "if (set1==set2):\n",
    "    print(\"The sets have the same elements.\")\n",
    "else:\n",
    "    print(\"The sets do not have the same elements.\")"
   ]
  },
  {
   "cell_type": "markdown",
   "id": "ef832db8-0b6f-43f2-86e8-27880b3a9904",
   "metadata": {},
   "source": [
    "### 45. Create a set of the first n powers of 2"
   ]
  },
  {
   "cell_type": "code",
   "execution_count": 10,
   "id": "ed9dbb8c-0b07-4b48-bcb4-c1e5d0c7afd0",
   "metadata": {},
   "outputs": [
    {
     "name": "stdin",
     "output_type": "stream",
     "text": [
      "Enter the number: 5\n"
     ]
    },
    {
     "name": "stdout",
     "output_type": "stream",
     "text": [
      "{1, 2, 4, 8, 16}\n"
     ]
    }
   ],
   "source": [
    "# Take the value of n\n",
    "n=int(input(\"Enter the number:\"))\n",
    "\n",
    "# Generate the set of first n powers of 2\n",
    "print(set(2**i for i in range(n)))"
   ]
  },
  {
   "cell_type": "markdown",
   "id": "ce7a0476-7fe2-4591-a8fb-f6166f3f93ba",
   "metadata": {},
   "source": [
    "### 46. Find the common elements between a set and a list."
   ]
  },
  {
   "cell_type": "code",
   "execution_count": 11,
   "id": "e5980824-6c3d-433d-a2d4-27bce5490d61",
   "metadata": {},
   "outputs": [
    {
     "name": "stdout",
     "output_type": "stream",
     "text": [
      "Common elements: {9, 2, 7}\n"
     ]
    }
   ],
   "source": [
    "# Define a set and a list\n",
    "my_set = {3, 7, 9, 2, 5}\n",
    "my_list = [7, 2, 6, 9]\n",
    "\n",
    "# Convert list into set\n",
    "my_set1=set(my_list)\n",
    "\n",
    "# Find the common elements\n",
    "inter=my_set.intersection(my_set1)\n",
    "\n",
    "# Print the common elements\n",
    "print(\"Common elements:\",inter)\n"
   ]
  },
  {
   "cell_type": "markdown",
   "id": "c8490265-f45b-48b2-99e5-8a70eeec000a",
   "metadata": {},
   "source": [
    "### 47. Create a set of the first n triangular numbers."
   ]
  },
  {
   "cell_type": "code",
   "execution_count": 14,
   "id": "a8a992bf-029e-4d81-abe0-b76d77b5502c",
   "metadata": {},
   "outputs": [
    {
     "name": "stdin",
     "output_type": "stream",
     "text": [
      "Enter the number: 10\n"
     ]
    },
    {
     "name": "stdout",
     "output_type": "stream",
     "text": [
      "The set of the first 10 triangular numbers is: {1, 3, 36, 6, 10, 45, 15, 21, 28}\n"
     ]
    }
   ],
   "source": [
    "# Take the value of n\n",
    "n=int(input(\"Enter the number:\"))\n",
    "\n",
    "# Display the set of triangular numbers\n",
    "print(f\"The set of the first {n} triangular numbers is:\",set(int(i*(i+1)/2) for i in range(1,n)))"
   ]
  },
  {
   "cell_type": "markdown",
   "id": "ce67226a-18ac-46ec-b3a6-354e0806306f",
   "metadata": {},
   "source": [
    "### 48. Check if a set contains another set as a subset."
   ]
  },
  {
   "cell_type": "code",
   "execution_count": 1,
   "id": "d6d135b5-a6f9-46ee-8722-5f78cbafd35e",
   "metadata": {},
   "outputs": [
    {
     "name": "stdout",
     "output_type": "stream",
     "text": [
      "{1, 2} is a subset of {1, 2, 3, 4, 5}\n"
     ]
    }
   ],
   "source": [
    "# Define two sets\n",
    "set1 = {1, 2, 3, 4, 5}\n",
    "set2 = {1, 2}\n",
    "\n",
    "# Check if set2 is a subset of set1\n",
    "is_subset = set2.issubset(set1)\n",
    "\n",
    "# Print the result\n",
    "if is_subset:\n",
    "    print(f\"{set2} is a subset of {set1}\")\n",
    "else:\n",
    "    print(f\"{set2} is not a subset of {set1}\")"
   ]
  },
  {
   "cell_type": "markdown",
   "id": "fdaff2c4-117a-4c49-8b58-a211e2b0dca1",
   "metadata": {},
   "source": [
    "### 49. Create a set of alternating 1s and 0s of length n."
   ]
  },
  {
   "cell_type": "code",
   "execution_count": 2,
   "id": "7dedacfe-c886-4033-b153-eab9d9096e7a",
   "metadata": {},
   "outputs": [
    {
     "name": "stdin",
     "output_type": "stream",
     "text": [
      "Enter the number: 7\n"
     ]
    },
    {
     "name": "stdout",
     "output_type": "stream",
     "text": [
      "{0, 1}\n"
     ]
    }
   ],
   "source": [
    "# Take the value of n\n",
    "n=int(input(\"Enter the number:\"))\n",
    "\n",
    "# Print a set of alternating 1s and 0s of lenght n\n",
    "print(set(i%2 for i in range(n)))"
   ]
  },
  {
   "cell_type": "markdown",
   "id": "537aa673-2291-4ebb-b5bc-35159239eb57",
   "metadata": {},
   "source": [
    "### 50. Merge multiple sets into one."
   ]
  },
  {
   "cell_type": "code",
   "execution_count": 4,
   "id": "f3d548fb-f335-4850-89f1-2abdb4c3e2d0",
   "metadata": {},
   "outputs": [
    {
     "name": "stdout",
     "output_type": "stream",
     "text": [
      "Merged Set: {1, 2, 3, 4, 5, 6, 7}\n"
     ]
    }
   ],
   "source": [
    "# Define multiple sets\n",
    "set1 = {1, 2, 3}\n",
    "set2 = {3, 4, 5}\n",
    "set3 = {5, 6, 7}\n",
    "\n",
    "# Merge sets\n",
    "merged_set=set1.union(set2,set3)\n",
    "\n",
    "# Print the merged set\n",
    "print(\"Merged Set:\", merged_set)"
   ]
  }
 ],
 "metadata": {
  "kernelspec": {
   "display_name": "Python 3 (ipykernel)",
   "language": "python",
   "name": "python3"
  },
  "language_info": {
   "codemirror_mode": {
    "name": "ipython",
    "version": 3
   },
   "file_extension": ".py",
   "mimetype": "text/x-python",
   "name": "python",
   "nbconvert_exporter": "python",
   "pygments_lexer": "ipython3",
   "version": "3.10.8"
  }
 },
 "nbformat": 4,
 "nbformat_minor": 5
}
